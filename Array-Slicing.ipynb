{
 "cells": [
  {
   "cell_type": "code",
   "execution_count": 1,
   "id": "7932d1a6-cdaf-4684-b040-bbb74487dbd1",
   "metadata": {},
   "outputs": [],
   "source": [
    "#Array slicing uses the same logic as list slicing\n",
    "\n",
    "#Let's create an array\n",
    "import numpy as np\n",
    "a = np.arange(1,10)"
   ]
  },
  {
   "cell_type": "code",
   "execution_count": 2,
   "id": "0edcd3ac-56c5-44f5-94c7-cbc2038be706",
   "metadata": {},
   "outputs": [
    {
     "data": {
      "text/plain": [
       "array([1, 2, 3, 4, 5, 6, 7, 8, 9])"
      ]
     },
     "execution_count": 2,
     "metadata": {},
     "output_type": "execute_result"
    }
   ],
   "source": [
    "a"
   ]
  },
  {
   "cell_type": "code",
   "execution_count": 3,
   "id": "c1002a89-d424-4e65-9ac9-3279d4fafd0d",
   "metadata": {},
   "outputs": [
    {
     "data": {
      "text/plain": [
       "(9,)"
      ]
     },
     "execution_count": 3,
     "metadata": {},
     "output_type": "execute_result"
    }
   ],
   "source": [
    "#The shape of the array\n",
    "a.shape"
   ]
  },
  {
   "cell_type": "code",
   "execution_count": 4,
   "id": "9061b517-f390-4fac-b1bb-aef37d4a6633",
   "metadata": {},
   "outputs": [
    {
     "data": {
      "text/plain": [
       "9"
      ]
     },
     "execution_count": 4,
     "metadata": {},
     "output_type": "execute_result"
    }
   ],
   "source": [
    "#Total number of elements in the array\n",
    "a.size"
   ]
  },
  {
   "cell_type": "code",
   "execution_count": 5,
   "id": "70f0d963-da96-4bcf-9080-38a7c0d0757b",
   "metadata": {},
   "outputs": [
    {
     "data": {
      "text/plain": [
       "array([1, 2, 3])"
      ]
     },
     "execution_count": 5,
     "metadata": {},
     "output_type": "execute_result"
    }
   ],
   "source": [
    "# The indexing starts from 0\n",
    "# slicing can be done using :\n",
    "\n",
    "a[0:3]"
   ]
  },
  {
   "cell_type": "code",
   "execution_count": 6,
   "id": "bc8e7e48-91f6-43c0-a293-adb67d1395d3",
   "metadata": {},
   "outputs": [
    {
     "data": {
      "text/plain": [
       "array([1, 2, 3, 4, 5, 6, 7, 8, 9])"
      ]
     },
     "execution_count": 6,
     "metadata": {},
     "output_type": "execute_result"
    }
   ],
   "source": [
    "# It uses three arguements [start:end:step]\n",
    "# suppose you wish to start from the 1st element you use index 0, you can slice like\n",
    "# array[start:stop]\n",
    "a[0:10]"
   ]
  },
  {
   "cell_type": "code",
   "execution_count": 7,
   "id": "24a2f852-b8e8-4163-b6fc-973f4a0b1c36",
   "metadata": {},
   "outputs": [
    {
     "data": {
      "text/plain": [
       "array([1, 2, 3, 4, 5, 6, 7, 8, 9])"
      ]
     },
     "execution_count": 7,
     "metadata": {},
     "output_type": "execute_result"
    }
   ],
   "source": [
    "#if not sure about the elements count, you might leave the stop element as blank\n",
    "a[0:]"
   ]
  },
  {
   "cell_type": "code",
   "execution_count": 8,
   "id": "5817a08b-6172-433c-ac68-ab03ab0e45b4",
   "metadata": {},
   "outputs": [
    {
     "data": {
      "text/plain": [
       "array([1, 2, 3, 4, 5])"
      ]
     },
     "execution_count": 8,
     "metadata": {},
     "output_type": "execute_result"
    }
   ],
   "source": [
    "#if feeling lazy, you might skip the start start element\n",
    "a[:5]"
   ]
  },
  {
   "cell_type": "code",
   "execution_count": 9,
   "id": "4f34356e-3226-4a87-a7c0-1e2f3de2f9ca",
   "metadata": {},
   "outputs": [
    {
     "data": {
      "text/plain": [
       "array([1, 2, 3, 4, 5, 6, 7, 8, 9])"
      ]
     },
     "execution_count": 9,
     "metadata": {},
     "output_type": "execute_result"
    }
   ],
   "source": [
    "# and you might even skip the start & stop element to start from 0 and stop at the final element\n",
    "a[:]"
   ]
  },
  {
   "cell_type": "code",
   "execution_count": 10,
   "id": "69dac75a-84a5-4d26-9ecc-6a7303005214",
   "metadata": {},
   "outputs": [
    {
     "data": {
      "text/plain": [
       "array([1, 2, 3, 4, 5, 6, 7, 8, 9])"
      ]
     },
     "execution_count": 10,
     "metadata": {},
     "output_type": "execute_result"
    }
   ],
   "source": [
    "#now we need to understand the final arguement, the steps; which is similar to list\n",
    "#start from the 1st count, and to the end\n",
    "a[0:10]"
   ]
  },
  {
   "cell_type": "code",
   "execution_count": 11,
   "id": "1eb9ee86-f8b6-4c6e-8f9c-9c0b2675fa34",
   "metadata": {},
   "outputs": [
    {
     "data": {
      "text/plain": [
       "array([1, 3, 5, 7, 9])"
      ]
     },
     "execution_count": 11,
     "metadata": {},
     "output_type": "execute_result"
    }
   ],
   "source": [
    "#lets add steps, suppose we wish to skip the alternate elements, we might a step count of 2\n",
    "a[0:10:2]"
   ]
  },
  {
   "cell_type": "code",
   "execution_count": 12,
   "id": "89f98598-a196-4b66-81b1-44630fe686b7",
   "metadata": {},
   "outputs": [
    {
     "data": {
      "text/plain": [
       "array([1, 4, 7])"
      ]
     },
     "execution_count": 12,
     "metadata": {},
     "output_type": "execute_result"
    }
   ],
   "source": [
    "#lets add steps, suppose we wish to skip the alternate elements, we might a step count of 3\n",
    "a[0:10:3]"
   ]
  },
  {
   "cell_type": "code",
   "execution_count": 13,
   "id": "ebbe0ed8-493d-4f8a-aac4-1388c9e0f193",
   "metadata": {},
   "outputs": [
    {
     "data": {
      "text/plain": [
       "array([1, 5, 9])"
      ]
     },
     "execution_count": 13,
     "metadata": {},
     "output_type": "execute_result"
    }
   ],
   "source": [
    "#lets add steps, suppose we wish to skip the alternate elements, we might a step count of 4\n",
    "a[0:10:4]"
   ]
  },
  {
   "cell_type": "code",
   "execution_count": null,
   "id": "33d4fcbe-26e0-41d5-bdc2-966b45441d2a",
   "metadata": {},
   "outputs": [],
   "source": []
  }
 ],
 "metadata": {
  "kernelspec": {
   "display_name": "Python 3 (ipykernel)",
   "language": "python",
   "name": "python3"
  },
  "language_info": {
   "codemirror_mode": {
    "name": "ipython",
    "version": 3
   },
   "file_extension": ".py",
   "mimetype": "text/x-python",
   "name": "python",
   "nbconvert_exporter": "python",
   "pygments_lexer": "ipython3",
   "version": "3.11.5"
  }
 },
 "nbformat": 4,
 "nbformat_minor": 5
}
