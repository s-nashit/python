{
 "cells": [
  {
   "cell_type": "code",
   "execution_count": 1,
   "id": "0d407ab2-560c-49b9-8084-ca7b1577112b",
   "metadata": {},
   "outputs": [
    {
     "data": {
      "text/plain": [
       "array([4, 3, 7, 5, 2, 7])"
      ]
     },
     "execution_count": 1,
     "metadata": {},
     "output_type": "execute_result"
    }
   ],
   "source": [
    "\n",
    "#Iteration\n",
    "import numpy as np\n",
    "\n",
    "a = np.array([4, 3,7, 5, 2, 7])\n",
    "a"
   ]
  },
  {
   "cell_type": "code",
   "execution_count": 2,
   "id": "23471571-4c81-45b3-bb1e-34a3736ae87d",
   "metadata": {},
   "outputs": [
    {
     "name": "stdout",
     "output_type": "stream",
     "text": [
      "4\n",
      "3\n",
      "7\n",
      "5\n",
      "2\n",
      "7\n"
     ]
    }
   ],
   "source": [
    "#size\n",
    "for i in a:\n",
    "    print(i)"
   ]
  },
  {
   "cell_type": "code",
   "execution_count": 3,
   "id": "9bba1377-de6b-41ec-a9f4-e80fb01e0f3f",
   "metadata": {},
   "outputs": [
    {
     "data": {
      "text/plain": [
       "array([[4, 6, 3, 9, 2],\n",
       "       [5, 2, 8, 6, 5]])"
      ]
     },
     "execution_count": 3,
     "metadata": {},
     "output_type": "execute_result"
    }
   ],
   "source": [
    "b = np.array([[4,6,3,9,2],[5,2,8,6,5]])\n",
    "b"
   ]
  },
  {
   "cell_type": "code",
   "execution_count": 7,
   "id": "214da302-9ceb-44f4-b969-a7a751b10da5",
   "metadata": {},
   "outputs": [
    {
     "name": "stdout",
     "output_type": "stream",
     "text": [
      "array :  [4 6 3 9 2]\n",
      "array :  [5 2 8 6 5]\n"
     ]
    }
   ],
   "source": [
    "for j in b:\n",
    "    a1 = j\n",
    "    print('array : ',a1)"
   ]
  },
  {
   "cell_type": "code",
   "execution_count": 8,
   "id": "91e62bbf-204d-4ab3-acc6-5fa57bdf1d28",
   "metadata": {},
   "outputs": [
    {
     "name": "stdout",
     "output_type": "stream",
     "text": [
      "4\n",
      "6\n",
      "3\n",
      "9\n",
      "2\n",
      "5\n",
      "2\n",
      "8\n",
      "6\n",
      "5\n"
     ]
    }
   ],
   "source": [
    "for k in b:\n",
    "    for l in k:\n",
    "        print(l)"
   ]
  },
  {
   "cell_type": "code",
   "execution_count": 9,
   "id": "ab0d7024-5db8-4f60-bdf0-6ff4555c0c6b",
   "metadata": {},
   "outputs": [
    {
     "data": {
      "text/plain": [
       "5"
      ]
     },
     "execution_count": 9,
     "metadata": {},
     "output_type": "execute_result"
    }
   ],
   "source": [
    "l"
   ]
  },
  {
   "cell_type": "code",
   "execution_count": 10,
   "id": "a28e4c10-168e-4b35-b149-b9fc1beae421",
   "metadata": {},
   "outputs": [
    {
     "data": {
      "text/plain": [
       "3"
      ]
     },
     "execution_count": 10,
     "metadata": {},
     "output_type": "execute_result"
    }
   ],
   "source": [
    "c = np.array([[[5, 3, 8], [12, 16,18], [22,25,29], [36,32,39]]])\n",
    "c.ndim"
   ]
  },
  {
   "cell_type": "code",
   "execution_count": 11,
   "id": "b963825e-33b5-48e4-86fa-38786211af4d",
   "metadata": {},
   "outputs": [
    {
     "name": "stdout",
     "output_type": "stream",
     "text": [
      "[[ 5  3  8]\n",
      " [12 16 18]\n",
      " [22 25 29]\n",
      " [36 32 39]]\n"
     ]
    }
   ],
   "source": [
    "# \n",
    "for i in c:print(i)"
   ]
  },
  {
   "cell_type": "code",
   "execution_count": 15,
   "id": "4169b1f5-f5be-4afb-b5e9-938fab742221",
   "metadata": {},
   "outputs": [
    {
     "name": "stdout",
     "output_type": "stream",
     "text": [
      "arrays : [5 3 8]\n",
      "arrays : [12 16 18]\n",
      "arrays : [22 25 29]\n",
      "arrays : [36 32 39]\n"
     ]
    }
   ],
   "source": [
    "for j in c:\n",
    "    for k in j:\n",
    "        print('arrays :',k)"
   ]
  },
  {
   "cell_type": "code",
   "execution_count": 16,
   "id": "01aebe3d-ac50-4087-ac5e-0245edd5b837",
   "metadata": {},
   "outputs": [
    {
     "name": "stdout",
     "output_type": "stream",
     "text": [
      "elements :  5\n",
      "elements :  3\n",
      "elements :  8\n",
      "elements :  12\n",
      "elements :  16\n",
      "elements :  18\n",
      "elements :  22\n",
      "elements :  25\n",
      "elements :  29\n",
      "elements :  36\n",
      "elements :  32\n",
      "elements :  39\n"
     ]
    }
   ],
   "source": [
    "for l in c:\n",
    "    for m in l:\n",
    "        for n in m:\n",
    "            print('elements : ', n)"
   ]
  },
  {
   "cell_type": "code",
   "execution_count": 17,
   "id": "ce27b03d-ad94-4654-b796-da3d146b4f8d",
   "metadata": {},
   "outputs": [
    {
     "name": "stdout",
     "output_type": "stream",
     "text": [
      "5\n",
      "3\n",
      "8\n",
      "12\n",
      "16\n",
      "18\n",
      "22\n",
      "25\n",
      "29\n",
      "36\n",
      "32\n",
      "39\n"
     ]
    }
   ],
   "source": [
    "c = np.array([[[5, 3, 8], [12, 16,18], [22,25,29], [36,32,39]]])\n",
    "for i in np.nditer(c):\n",
    "    print(i)\n"
   ]
  },
  {
   "cell_type": "code",
   "execution_count": 20,
   "id": "eac03c29-622d-4c4a-9c63-6685691be6b9",
   "metadata": {},
   "outputs": [
    {
     "name": "stdout",
     "output_type": "stream",
     "text": [
      "[[[ 5  3  8]\n",
      "  [12 16 18]\n",
      "  [22 25 29]\n",
      "  [36 32 39]]]\n",
      "\n",
      "(0, 0, 0) 5\n",
      "(0, 0, 1) 3\n",
      "(0, 0, 2) 8\n",
      "(0, 1, 0) 12\n",
      "(0, 1, 1) 16\n",
      "(0, 1, 2) 18\n",
      "(0, 2, 0) 22\n",
      "(0, 2, 1) 25\n",
      "(0, 2, 2) 29\n",
      "(0, 3, 0) 36\n",
      "(0, 3, 1) 32\n",
      "(0, 3, 2) 39\n"
     ]
    }
   ],
   "source": [
    "print(c)\n",
    "print()\n",
    "for i, d in np.ndenumerate(c):\n",
    "    print(i,d)"
   ]
  },
  {
   "cell_type": "code",
   "execution_count": 21,
   "id": "55fbf29c-a22b-4d2b-a73c-f02b56884d31",
   "metadata": {},
   "outputs": [],
   "source": [
    "#Join"
   ]
  },
  {
   "cell_type": "code",
   "execution_count": 24,
   "id": "6b3f40cd-46b4-497d-8074-da5b701eb741",
   "metadata": {},
   "outputs": [
    {
     "data": {
      "text/plain": [
       "array([ 7,  3,  5,  2, 88, 22, 44, 66])"
      ]
     },
     "execution_count": 24,
     "metadata": {},
     "output_type": "execute_result"
    }
   ],
   "source": [
    "a = np.array([7, 3, 5, 2])\n",
    "b = np.array([88,22,44,66])\n",
    "\n",
    "np.concatenate((a,b))"
   ]
  },
  {
   "cell_type": "code",
   "execution_count": 25,
   "id": "7ec197ae-4b75-4eef-83f6-e7823a03ea2c",
   "metadata": {},
   "outputs": [
    {
     "data": {
      "text/plain": [
       "array([[ 7,  2,  9],\n",
       "       [11, 18, 16],\n",
       "       [47, 42, 49],\n",
       "       [51, 58, 56]])"
      ]
     },
     "execution_count": 25,
     "metadata": {},
     "output_type": "execute_result"
    }
   ],
   "source": [
    "c = np.array([[7, 2, 9],[11, 18, 16]])\n",
    "d = np.array([[47, 42, 49],[51, 58, 56]])\n",
    "\n",
    "np.concatenate((c,d))"
   ]
  },
  {
   "cell_type": "code",
   "execution_count": 27,
   "id": "d6bfccb8-eb7b-4f43-ac76-ccfb7a24a591",
   "metadata": {},
   "outputs": [
    {
     "data": {
      "text/plain": [
       "array([[ 7,  2,  9, 47, 42, 49],\n",
       "       [11, 18, 16, 51, 58, 56]])"
      ]
     },
     "execution_count": 27,
     "metadata": {},
     "output_type": "execute_result"
    }
   ],
   "source": [
    "np.concatenate((c,d), axis=1)"
   ]
  },
  {
   "cell_type": "code",
   "execution_count": 28,
   "id": "7060f326-f3a7-4adb-92c4-e166e3226360",
   "metadata": {},
   "outputs": [
    {
     "data": {
      "text/plain": [
       "array([[[11, 12],\n",
       "        [21, 22],\n",
       "        [33, 34]],\n",
       "\n",
       "       [[51, 52],\n",
       "        [61, 62],\n",
       "        [63, 64]]])"
      ]
     },
     "execution_count": 28,
     "metadata": {},
     "output_type": "execute_result"
    }
   ],
   "source": [
    "e = np.array([[[11,12],[21,22],[33,34]]])\n",
    "f = np.array([[[51,52],[61,62],[63,64]]])\n",
    "np.concatenate((e,f))"
   ]
  },
  {
   "cell_type": "code",
   "execution_count": 31,
   "id": "9968a09a-0c6a-414f-9243-fd33f6e970f5",
   "metadata": {},
   "outputs": [
    {
     "data": {
      "text/plain": [
       "array([[[11, 12, 51, 52],\n",
       "        [21, 22, 61, 62],\n",
       "        [33, 34, 63, 64]]])"
      ]
     },
     "execution_count": 31,
     "metadata": {},
     "output_type": "execute_result"
    }
   ],
   "source": [
    "np.concatenate((e,f), axis=2)"
   ]
  },
  {
   "cell_type": "code",
   "execution_count": 35,
   "id": "c4395d22-0257-4227-bf6c-ada2631d99ba",
   "metadata": {},
   "outputs": [
    {
     "data": {
      "text/plain": [
       "array([[ 7,  3,  5,  2],\n",
       "       [88, 22, 44, 66]])"
      ]
     },
     "execution_count": 35,
     "metadata": {},
     "output_type": "execute_result"
    }
   ],
   "source": [
    "np.stack((a,b), axis=0)"
   ]
  },
  {
   "cell_type": "code",
   "execution_count": 36,
   "id": "43a880a4-2c34-48a4-99b8-435db1ffdbcf",
   "metadata": {},
   "outputs": [
    {
     "data": {
      "text/plain": [
       "array([[ 7,  3,  5,  2],\n",
       "       [88, 22, 44, 66]])"
      ]
     },
     "execution_count": 36,
     "metadata": {},
     "output_type": "execute_result"
    }
   ],
   "source": [
    "np.vstack((a,b))"
   ]
  },
  {
   "cell_type": "code",
   "execution_count": 37,
   "id": "3d136ceb-94e1-4b20-bf9b-0f340df2efd5",
   "metadata": {},
   "outputs": [
    {
     "data": {
      "text/plain": [
       "array([ 7,  3,  5,  2, 88, 22, 44, 66])"
      ]
     },
     "execution_count": 37,
     "metadata": {},
     "output_type": "execute_result"
    }
   ],
   "source": [
    "np.hstack((a,b))"
   ]
  },
  {
   "cell_type": "code",
   "execution_count": 38,
   "id": "2feda477-2037-46aa-a6c5-17b78b86e66d",
   "metadata": {},
   "outputs": [
    {
     "data": {
      "text/plain": [
       "array([[[ 7, 88],\n",
       "        [ 3, 22],\n",
       "        [ 5, 44],\n",
       "        [ 2, 66]]])"
      ]
     },
     "execution_count": 38,
     "metadata": {},
     "output_type": "execute_result"
    }
   ],
   "source": [
    "np.dstack((a,b))"
   ]
  },
  {
   "cell_type": "code",
   "execution_count": 40,
   "id": "e20cd6c0-1bbb-4ce7-9d96-54b340e20e18",
   "metadata": {},
   "outputs": [
    {
     "name": "stdout",
     "output_type": "stream",
     "text": [
      "[7 3 5 2]\n",
      "[88 22 44 66]\n"
     ]
    }
   ],
   "source": [
    "a = np.array([ 7,  3,  5,  2, 88, 22, 44, 66])\n",
    "b = np.array_split(a, 2)\n",
    "for i in b:\n",
    "    print(i)"
   ]
  },
  {
   "cell_type": "code",
   "execution_count": 50,
   "id": "c6e3477b-7f02-429d-a25b-8bb407bd514c",
   "metadata": {},
   "outputs": [
    {
     "data": {
      "text/plain": [
       "array([[[ 3, 22, 34],\n",
       "        [ 5, 25, 36],\n",
       "        [ 6, 27, 32],\n",
       "        [ 9, 28, 39]]])"
      ]
     },
     "execution_count": 50,
     "metadata": {},
     "output_type": "execute_result"
    }
   ],
   "source": [
    "a = np.array([3, 5, 6, 9])\n",
    "b = np.array([22,25,27,28])\n",
    "c = np.array([34,36,32,39])\n",
    "np.dstack((a,b,c))"
   ]
  },
  {
   "cell_type": "code",
   "execution_count": 62,
   "id": "22eb5156-6866-4910-8a37-9cb2d0be7787",
   "metadata": {},
   "outputs": [
    {
     "data": {
      "text/plain": [
       "[array([7, 3]), array([5, 2]), array([88, 22]), array([44, 66])]"
      ]
     },
     "execution_count": 62,
     "metadata": {},
     "output_type": "execute_result"
    }
   ],
   "source": [
    "a = np.array([7,  3,  5,  2, 88, 22, 44, 66])\n",
    "b = np.array_split(a, 4)\n",
    "b"
   ]
  },
  {
   "cell_type": "code",
   "execution_count": 63,
   "id": "2c035f7e-c6c4-4f83-bda0-311a39a95ca6",
   "metadata": {},
   "outputs": [
    {
     "data": {
      "text/plain": [
       "[array([[ 7],\n",
       "        [ 5],\n",
       "        [88],\n",
       "        [44]]),\n",
       " array([[ 3],\n",
       "        [ 2],\n",
       "        [22],\n",
       "        [66]]),\n",
       " array([], shape=(4, 0), dtype=int32),\n",
       " array([], shape=(4, 0), dtype=int32)]"
      ]
     },
     "execution_count": 63,
     "metadata": {},
     "output_type": "execute_result"
    }
   ],
   "source": [
    "np.array_split(b, 4, axis=1)"
   ]
  },
  {
   "cell_type": "code",
   "execution_count": 64,
   "id": "73d0f9e3-0243-4a82-a01b-c8dccb08cb75",
   "metadata": {},
   "outputs": [],
   "source": [
    "#Search"
   ]
  },
  {
   "cell_type": "code",
   "execution_count": 65,
   "id": "2a813cb9-4e3f-4454-bdb4-f0a4231ab9ae",
   "metadata": {},
   "outputs": [
    {
     "name": "stdout",
     "output_type": "stream",
     "text": [
      "(array([7], dtype=int64),)\n"
     ]
    }
   ],
   "source": [
    "a = np.array([17, 16, 19, 14, 21, 17, 18, 10, 11])\n",
    "# index       0    1   2   3   4  5   6   7    8\n",
    "x = np.where( a == 10)\n",
    "print(x)"
   ]
  },
  {
   "cell_type": "code",
   "execution_count": 66,
   "id": "2ebf02e9-0349-4a25-811a-1f08db75a4dc",
   "metadata": {},
   "outputs": [
    {
     "name": "stdout",
     "output_type": "stream",
     "text": [
      "(array([2, 4, 6], dtype=int64),)\n"
     ]
    }
   ],
   "source": [
    "x = np.where( a >= 18 )\n",
    "print(x)"
   ]
  },
  {
   "cell_type": "code",
   "execution_count": 67,
   "id": "07825b85-95c1-48bd-b38f-59b314d118aa",
   "metadata": {},
   "outputs": [
    {
     "name": "stdout",
     "output_type": "stream",
     "text": [
      "(array([0, 1, 3, 5, 6, 7, 8], dtype=int64),)\n"
     ]
    }
   ],
   "source": [
    "x = np.where( a <= 18 )\n",
    "print(x)"
   ]
  },
  {
   "cell_type": "code",
   "execution_count": 68,
   "id": "bd5016db-fa50-4c71-aae9-0b1218833bcc",
   "metadata": {},
   "outputs": [
    {
     "name": "stdout",
     "output_type": "stream",
     "text": [
      "(array([1, 3, 6, 7], dtype=int64),)\n"
     ]
    }
   ],
   "source": [
    "x = np.where( (a%2) == 0)\n",
    "print(x)\n",
    "\n",
    "    # even -> % =0"
   ]
  },
  {
   "cell_type": "code",
   "execution_count": 69,
   "id": "67de5531-3070-4531-af09-a9151b1f916f",
   "metadata": {},
   "outputs": [
    {
     "data": {
      "text/plain": [
       "array([17, 16, 19, 14, 21, 17, 18, 10, 11])"
      ]
     },
     "execution_count": 69,
     "metadata": {},
     "output_type": "execute_result"
    }
   ],
   "source": [
    "a"
   ]
  },
  {
   "cell_type": "code",
   "execution_count": 70,
   "id": "a6f104a8-8187-43bf-86e9-ca803bab2428",
   "metadata": {},
   "outputs": [
    {
     "data": {
      "text/plain": [
       "array([10, 11, 14, 16, 17, 17, 18, 19, 21])"
      ]
     },
     "execution_count": 70,
     "metadata": {},
     "output_type": "execute_result"
    }
   ],
   "source": [
    "np.sort(a)"
   ]
  },
  {
   "cell_type": "code",
   "execution_count": 71,
   "id": "adbc149a-7ca4-484d-9ea0-0de4742ef509",
   "metadata": {},
   "outputs": [
    {
     "data": {
      "text/plain": [
       "array([[2, 6, 9],\n",
       "       [2, 3, 6]])"
      ]
     },
     "execution_count": 71,
     "metadata": {},
     "output_type": "execute_result"
    }
   ],
   "source": [
    "b = np.array([[6, 2, 9], [2,6,3]])\n",
    "np.sort(b)"
   ]
  },
  {
   "cell_type": "code",
   "execution_count": 72,
   "id": "cce214ad-618b-4b28-83e8-42cb7b25722e",
   "metadata": {},
   "outputs": [
    {
     "data": {
      "text/plain": [
       "array([17, 16, 19, 14, 21, 17, 18, 10, 11])"
      ]
     },
     "execution_count": 72,
     "metadata": {},
     "output_type": "execute_result"
    }
   ],
   "source": [
    "a"
   ]
  },
  {
   "cell_type": "code",
   "execution_count": 73,
   "id": "cb0ababd-859e-4c99-9ed7-a820b3643119",
   "metadata": {},
   "outputs": [
    {
     "data": {
      "text/plain": [
       "array([19, 21, 18])"
      ]
     },
     "execution_count": 73,
     "metadata": {},
     "output_type": "execute_result"
    }
   ],
   "source": [
    "#Filter\n",
    "a = np.array([17, 16, 19, 14, 21, 17, 18, 10, 11])\n",
    "b = [False, False, True, False, True, False, True, False, False]\n",
    "c = a[b]\n",
    "c"
   ]
  },
  {
   "cell_type": "code",
   "execution_count": 74,
   "id": "0768726c-cf6c-4d49-bd3c-89110c7c06ef",
   "metadata": {},
   "outputs": [
    {
     "data": {
      "text/plain": [
       "array([10, 11, 14, 16, 17, 17, 18, 19, 21])"
      ]
     },
     "execution_count": 74,
     "metadata": {},
     "output_type": "execute_result"
    }
   ],
   "source": [
    "#Insert\n",
    "\n",
    "a = np.array([17, 16, 19, 14, 21, 17, 18, 10, 11])\n",
    "b = np.sort(a)\n",
    "b"
   ]
  },
  {
   "cell_type": "code",
   "execution_count": 75,
   "id": "07eba7da-7ae0-487d-aae4-9c2c4c9896d8",
   "metadata": {},
   "outputs": [
    {
     "data": {
      "text/plain": [
       "array([ 10, 999,  11,  14,  16,  17,  17,  18,  19,  21])"
      ]
     },
     "execution_count": 75,
     "metadata": {},
     "output_type": "execute_result"
    }
   ],
   "source": [
    "c = np.insert(b, 1, 999)\n",
    "c"
   ]
  },
  {
   "cell_type": "code",
   "execution_count": 77,
   "id": "f9609b74-379b-4d7e-9721-338748bf81e7",
   "metadata": {},
   "outputs": [
    {
     "data": {
      "text/plain": [
       "array([ 10, 999,  11,  14, 999,  16,  17, 999,  17,  18, 999,  19,  21])"
      ]
     },
     "execution_count": 77,
     "metadata": {},
     "output_type": "execute_result"
    }
   ],
   "source": [
    "c = np.insert(b, (1,3,5,7), 999)\n",
    "c"
   ]
  },
  {
   "cell_type": "code",
   "execution_count": 82,
   "id": "ab43e22d-0dc8-40e1-99e8-f13469645d30",
   "metadata": {},
   "outputs": [
    {
     "ename": "ValueError",
     "evalue": "could not broadcast input array from shape (3,1) into shape (2,1)",
     "output_type": "error",
     "traceback": [
      "\u001b[1;31m---------------------------------------------------------------------------\u001b[0m",
      "\u001b[1;31mValueError\u001b[0m                                Traceback (most recent call last)",
      "Cell \u001b[1;32mIn[82], line 2\u001b[0m\n\u001b[0;32m      1\u001b[0m b \u001b[38;5;241m=\u001b[39m np\u001b[38;5;241m.\u001b[39marray([[\u001b[38;5;241m6\u001b[39m, \u001b[38;5;241m2\u001b[39m, \u001b[38;5;241m9\u001b[39m], [\u001b[38;5;241m2\u001b[39m,\u001b[38;5;241m6\u001b[39m,\u001b[38;5;241m3\u001b[39m]])\n\u001b[1;32m----> 2\u001b[0m c \u001b[38;5;241m=\u001b[39m \u001b[43mnp\u001b[49m\u001b[38;5;241;43m.\u001b[39;49m\u001b[43minsert\u001b[49m\u001b[43m(\u001b[49m\u001b[43mb\u001b[49m\u001b[43m,\u001b[49m\u001b[43m \u001b[49m\u001b[38;5;241;43m0\u001b[39;49m\u001b[43m,\u001b[49m\u001b[43m \u001b[49m\u001b[43m[\u001b[49m\u001b[38;5;241;43m99\u001b[39;49m\u001b[43m,\u001b[49m\u001b[38;5;241;43m999\u001b[39;49m\u001b[43m,\u001b[49m\u001b[38;5;241;43m9999\u001b[39;49m\u001b[43m]\u001b[49m\u001b[43m,\u001b[49m\u001b[43m \u001b[49m\u001b[43maxis\u001b[49m\u001b[38;5;241;43m=\u001b[39;49m\u001b[38;5;241;43m1\u001b[39;49m\u001b[43m)\u001b[49m\n",
      "File \u001b[1;32m~\\AppData\\Local\\Programs\\Python\\Python311\\Lib\\site-packages\\numpy\\lib\\function_base.py:5524\u001b[0m, in \u001b[0;36minsert\u001b[1;34m(arr, obj, values, axis)\u001b[0m\n\u001b[0;32m   5522\u001b[0m new[\u001b[38;5;28mtuple\u001b[39m(slobj)] \u001b[38;5;241m=\u001b[39m arr[\u001b[38;5;28mtuple\u001b[39m(slobj)]\n\u001b[0;32m   5523\u001b[0m slobj[axis] \u001b[38;5;241m=\u001b[39m \u001b[38;5;28mslice\u001b[39m(index, index\u001b[38;5;241m+\u001b[39mnumnew)\n\u001b[1;32m-> 5524\u001b[0m \u001b[43mnew\u001b[49m\u001b[43m[\u001b[49m\u001b[38;5;28;43mtuple\u001b[39;49m\u001b[43m(\u001b[49m\u001b[43mslobj\u001b[49m\u001b[43m)\u001b[49m\u001b[43m]\u001b[49m \u001b[38;5;241m=\u001b[39m values\n\u001b[0;32m   5525\u001b[0m slobj[axis] \u001b[38;5;241m=\u001b[39m \u001b[38;5;28mslice\u001b[39m(index\u001b[38;5;241m+\u001b[39mnumnew, \u001b[38;5;28;01mNone\u001b[39;00m)\n\u001b[0;32m   5526\u001b[0m slobj2 \u001b[38;5;241m=\u001b[39m [\u001b[38;5;28mslice\u001b[39m(\u001b[38;5;28;01mNone\u001b[39;00m)] \u001b[38;5;241m*\u001b[39m ndim\n",
      "\u001b[1;31mValueError\u001b[0m: could not broadcast input array from shape (3,1) into shape (2,1)"
     ]
    }
   ],
   "source": [
    "b = np.array([[6, 2, 9], [2,6,3]])\n",
    "c = np.insert(b, 0, [99,999,9999], axis=1)"
   ]
  },
  {
   "cell_type": "code",
   "execution_count": 83,
   "id": "5d283ce2-655d-4c35-a39d-d4c483fb45db",
   "metadata": {},
   "outputs": [
    {
     "data": {
      "text/plain": [
       "array([[  99,  999, 9999],\n",
       "       [   6,    2,    9],\n",
       "       [   2,    6,    3]])"
      ]
     },
     "execution_count": 83,
     "metadata": {},
     "output_type": "execute_result"
    }
   ],
   "source": [
    "c"
   ]
  },
  {
   "cell_type": "code",
   "execution_count": 84,
   "id": "0786c4ec-e04d-4b6a-9676-0d441209b52d",
   "metadata": {},
   "outputs": [
    {
     "data": {
      "text/plain": [
       "array([17, 16, 19, 14, 21, 17, 18, 10, 11])"
      ]
     },
     "execution_count": 84,
     "metadata": {},
     "output_type": "execute_result"
    }
   ],
   "source": [
    "a"
   ]
  },
  {
   "cell_type": "code",
   "execution_count": 86,
   "id": "3eb9b2eb-0da1-470f-8bbf-990ddedd08ed",
   "metadata": {},
   "outputs": [
    {
     "data": {
      "text/plain": [
       "array([ 17,  16,  19,  14,  21,  17,  18,  10,  11, 999])"
      ]
     },
     "execution_count": 86,
     "metadata": {},
     "output_type": "execute_result"
    }
   ],
   "source": [
    "c=np.append(a,999)\n",
    "c"
   ]
  },
  {
   "cell_type": "code",
   "execution_count": 89,
   "id": "7ed11177-31a4-43fb-947c-11420abe5042",
   "metadata": {},
   "outputs": [
    {
     "data": {
      "text/plain": [
       "array([ 17,  19,  14,  21,  17,  18,  10,  11, 999])"
      ]
     },
     "execution_count": 89,
     "metadata": {},
     "output_type": "execute_result"
    }
   ],
   "source": [
    "np.delete(c,1)"
   ]
  },
  {
   "cell_type": "code",
   "execution_count": 90,
   "id": "3f98d96a-b12d-420b-b913-c7b8065e008f",
   "metadata": {},
   "outputs": [
    {
     "data": {
      "text/plain": [
       "array([2, 4, 6, 7])"
      ]
     },
     "execution_count": 90,
     "metadata": {},
     "output_type": "execute_result"
    }
   ],
   "source": [
    "a = np.array([2,4,6,7])\n",
    "a"
   ]
  },
  {
   "cell_type": "code",
   "execution_count": 91,
   "id": "9b8a7c4f-58df-47ba-8b3a-979ef8adce23",
   "metadata": {},
   "outputs": [
    {
     "data": {
      "text/plain": [
       "4"
      ]
     },
     "execution_count": 91,
     "metadata": {},
     "output_type": "execute_result"
    }
   ],
   "source": [
    "a.size"
   ]
  },
  {
   "cell_type": "code",
   "execution_count": 92,
   "id": "4e5aac38-558e-4594-85b3-90da5ffbd879",
   "metadata": {},
   "outputs": [
    {
     "data": {
      "text/plain": [
       "4"
      ]
     },
     "execution_count": 92,
     "metadata": {},
     "output_type": "execute_result"
    }
   ],
   "source": [
    "a.itemsize"
   ]
  },
  {
   "cell_type": "code",
   "execution_count": 93,
   "id": "4ebf5127-b33b-4f19-876a-6eb780aedec1",
   "metadata": {},
   "outputs": [
    {
     "data": {
      "text/plain": [
       "16"
      ]
     },
     "execution_count": 93,
     "metadata": {},
     "output_type": "execute_result"
    }
   ],
   "source": [
    "a.size*a.itemsize"
   ]
  },
  {
   "cell_type": "code",
   "execution_count": 94,
   "id": "1f35180b-1d00-46ce-92d6-475d7ceb0a1e",
   "metadata": {},
   "outputs": [
    {
     "data": {
      "text/plain": [
       "16"
      ]
     },
     "execution_count": 94,
     "metadata": {},
     "output_type": "execute_result"
    }
   ],
   "source": [
    "a.nbytes"
   ]
  },
  {
   "cell_type": "code",
   "execution_count": 99,
   "id": "a0a8b18e-e3a3-4b49-b71b-e526f7375325",
   "metadata": {},
   "outputs": [
    {
     "data": {
      "image/png": "[encoded data removed]",
      "text/plain": [
       "<Figure size 640x480 with 1 Axes>"
      ]
     },
     "metadata": {},
     "output_type": "display_data"
    }
   ],
   "source": [
    "import matplotlib.pyplot as plt\n",
    "x = np.array([2, 3, 4,10])\n",
    "y = np.array([87, 78, 75, 74])\n",
    "\n",
    "plt.plot(x,y)\n",
    "plt.show()"
   ]
  },
  {
   "cell_type": "code",
   "execution_count": 105,
   "id": "779d1185-548e-4bd5-8d94-8505d0442a49",
   "metadata": {},
   "outputs": [
    {
     "data": {
      "text/plain": [
       "array([ 3,  5,  8,  2, 45, 48, 49, 40])"
      ]
     },
     "execution_count": 105,
     "metadata": {},
     "output_type": "execute_result"
    }
   ],
   "source": [
    "a = np.array([3, 5, 8,2])\n",
    "b = np.array([45,48,49,40])\n",
    "np.concatenate((a,b))"
   ]
  },
  {
   "cell_type": "code",
   "execution_count": 106,
   "id": "3499f33c-e59c-4bc3-965e-3c518235c325",
   "metadata": {},
   "outputs": [
    {
     "data": {
      "text/plain": [
       "array([[ 3,  5,  8,  2],\n",
       "       [45, 48, 49, 40]])"
      ]
     },
     "execution_count": 106,
     "metadata": {},
     "output_type": "execute_result"
    }
   ],
   "source": [
    "np.stack((a,b))"
   ]
  },
  {
   "cell_type": "code",
   "execution_count": 113,
   "id": "4e1a9317-afc7-4657-ab24-8059a83f4df1",
   "metadata": {},
   "outputs": [
    {
     "data": {
      "text/plain": [
       "array([[ 3,  5,  8,  2],\n",
       "       [45, 48, 49, 40]])"
      ]
     },
     "execution_count": 113,
     "metadata": {},
     "output_type": "execute_result"
    }
   ],
   "source": [
    "np.stack((a,b))"
   ]
  },
  {
   "cell_type": "code",
   "execution_count": 115,
   "id": "9ea223b5-9e59-461c-9148-71edd8209bb5",
   "metadata": {},
   "outputs": [
    {
     "data": {
      "text/plain": [
       "array([[ 3,  5,  8,  2],\n",
       "       [45, 48, 49, 40]])"
      ]
     },
     "execution_count": 115,
     "metadata": {},
     "output_type": "execute_result"
    }
   ],
   "source": [
    "np.vstack((a,b))"
   ]
  },
  {
   "cell_type": "code",
   "execution_count": 116,
   "id": "f7b42650-3275-4a9e-8b28-a8230da6829b",
   "metadata": {},
   "outputs": [
    {
     "data": {
      "text/plain": [
       "array([ 3,  5,  8,  2, 45, 48, 49, 40])"
      ]
     },
     "execution_count": 116,
     "metadata": {},
     "output_type": "execute_result"
    }
   ],
   "source": [
    "np.hstack((a,b))"
   ]
  },
  {
   "cell_type": "code",
   "execution_count": 117,
   "id": "289d0da1-a8d2-47f2-9f1d-a2253723d422",
   "metadata": {},
   "outputs": [
    {
     "data": {
      "text/plain": [
       "array([[[ 3, 45],\n",
       "        [ 5, 48],\n",
       "        [ 8, 49],\n",
       "        [ 2, 40]]])"
      ]
     },
     "execution_count": 117,
     "metadata": {},
     "output_type": "execute_result"
    }
   ],
   "source": [
    "np.dstack((a,b))"
   ]
  },
  {
   "cell_type": "code",
   "execution_count": 118,
   "id": "a5ba55ac-85d5-4e9e-acfb-acca8427eb64",
   "metadata": {},
   "outputs": [
    {
     "data": {
      "text/plain": [
       "array([ 0.89399666,  0.85090352, -0.80115264])"
      ]
     },
     "execution_count": 118,
     "metadata": {},
     "output_type": "execute_result"
    }
   ],
   "source": [
    "a = np.array([90, 45, 180])\n",
    "np.sin(a)"
   ]
  },
  {
   "cell_type": "code",
   "execution_count": 125,
   "id": "171d870e-b63c-480c-946a-e4b4d3461e79",
   "metadata": {},
   "outputs": [
    {
     "data": {
      "text/plain": [
       "array([[0.        , 1.57079633, 1.04719755, 3.14159265]])"
      ]
     },
     "execution_count": 125,
     "metadata": {},
     "output_type": "execute_result"
    }
   ],
   "source": [
    "# pi/2 = 90 degree\n",
    "import math\n",
    "b = np.array([[0, math.pi / 2, np.pi / 3, np.pi]])\n",
    "b"
   ]
  },
  {
   "cell_type": "code",
   "execution_count": 126,
   "id": "08a2010d-d9c1-405c-973b-44bcb88805e1",
   "metadata": {},
   "outputs": [
    {
     "data": {
      "text/plain": [
       "array([[0.00000000e+00, 1.00000000e+00, 8.66025404e-01, 1.22464680e-16]])"
      ]
     },
     "execution_count": 126,
     "metadata": {},
     "output_type": "execute_result"
    }
   ],
   "source": [
    "np.sin(b)"
   ]
  },
  {
   "cell_type": "code",
   "execution_count": 127,
   "id": "03df098f-a870-4b37-b089-dec96fa8fcd4",
   "metadata": {},
   "outputs": [
    {
     "name": "stdout",
     "output_type": "stream",
     "text": [
      "(0,) 3\n",
      "(1,) 5\n",
      "(2,) 7\n"
     ]
    }
   ],
   "source": [
    "a = np.array([3, 5, 7])\n",
    "for i,d in np.ndenumerate(a):\n",
    "    print(i, d)"
   ]
  },
  {
   "cell_type": "code",
   "execution_count": 129,
   "id": "4463496f-07ff-4c47-9b3f-ecde1cb5bb4b",
   "metadata": {},
   "outputs": [
    {
     "name": "stdout",
     "output_type": "stream",
     "text": [
      "(0, 0) 3\n",
      "(0, 1) 5\n",
      "(0, 2) 7\n",
      "(1, 0) 99\n",
      "(1, 1) 98\n",
      "(1, 2) 97\n"
     ]
    }
   ],
   "source": [
    "b = np.array([[3, 5, 7],[99,98,97]])\n",
    "for x,y in np.ndenumerate(b):\n",
    "    print(x,y)"
   ]
  },
  {
   "cell_type": "code",
   "execution_count": null,
   "id": "b29185a8-1c50-44a5-9c4a-161184c9febb",
   "metadata": {},
   "outputs": [],
   "source": []
  }
 ],
 "metadata": {
  "kernelspec": {
   "display_name": "Python 3 (ipykernel)",
   "language": "python",
   "name": "python3"
  },
  "language_info": {
   "codemirror_mode": {
    "name": "ipython",
    "version": 3
   },
   "file_extension": ".py",
   "mimetype": "text/x-python",
   "name": "python",
   "nbconvert_exporter": "python",
   "pygments_lexer": "ipython3",
   "version": "3.11.5"
  }
 },
 "nbformat": 4,
 "nbformat_minor": 5
}
