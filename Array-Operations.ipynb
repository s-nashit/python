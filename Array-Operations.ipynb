{
 "cells": [
  {
   "cell_type": "code",
   "execution_count": 1,
   "id": "99d9906b-6505-4134-8c64-7ea438ba606a",
   "metadata": {},
   "outputs": [
    {
     "data": {
      "text/plain": [
       "array([0, 1, 2, 3, 4, 5, 6, 7, 8, 9])"
      ]
     },
     "execution_count": 1,
     "metadata": {},
     "output_type": "execute_result"
    }
   ],
   "source": [
    "import numpy as np\n",
    "a = np.arange(10)\n",
    "a"
   ]
  },
  {
   "cell_type": "code",
   "execution_count": 2,
   "id": "4c311e44-01c9-4ea6-8c73-b04407cc2f95",
   "metadata": {},
   "outputs": [],
   "source": [
    "b = np.array([2.4, -1.6, 9.2, 4.8, 3.76])"
   ]
  },
  {
   "cell_type": "code",
   "execution_count": 4,
   "id": "170032fa-cc3b-4b80-91ba-ef2df460b003",
   "metadata": {},
   "outputs": [
    {
     "data": {
      "text/plain": [
       "array([ 2., -2.,  9.,  4.,  3.])"
      ]
     },
     "execution_count": 4,
     "metadata": {},
     "output_type": "execute_result"
    }
   ],
   "source": [
    "# floor , ceil, round\n",
    "# floor: to previous whole number\n",
    "np.floor(b)"
   ]
  },
  {
   "cell_type": "code",
   "execution_count": 5,
   "id": "15abb8fe-723c-47ea-b258-60f1a8b40c35",
   "metadata": {},
   "outputs": [
    {
     "data": {
      "text/plain": [
       "array([ 3., -1., 10.,  5.,  4.])"
      ]
     },
     "execution_count": 5,
     "metadata": {},
     "output_type": "execute_result"
    }
   ],
   "source": [
    "# ceil : ceiling, to next heighest whole nole number\n",
    "np.ceil(b)"
   ]
  },
  {
   "cell_type": "code",
   "execution_count": 6,
   "id": "383535ac-3f3f-4981-8db8-1943c8c81e5e",
   "metadata": {},
   "outputs": [
    {
     "data": {
      "text/plain": [
       "array([ 2., -2.,  9.,  5.,  4.])"
      ]
     },
     "execution_count": 6,
     "metadata": {},
     "output_type": "execute_result"
    }
   ],
   "source": [
    "# around: rounding off\n",
    "np.around(b)"
   ]
  },
  {
   "cell_type": "markdown",
   "id": "3337fee0-57f9-47a8-ba30-ac68e108e200",
   "metadata": {},
   "source": [
    "# Statistical Functions\n"
   ]
  },
  {
   "cell_type": "code",
   "execution_count": 7,
   "id": "6653ed64-886a-43ca-ae84-b9cafe081acb",
   "metadata": {},
   "outputs": [],
   "source": [
    "#Alongwith min,max,amax,argmin,argmax,cumsum, we have a few more statistical functions"
   ]
  },
  {
   "cell_type": "code",
   "execution_count": 8,
   "id": "fbc6414f-e4d2-4936-934f-dd3fdca43b46",
   "metadata": {},
   "outputs": [],
   "source": [
    "# amin & amax to calculate the max & min along an axis"
   ]
  },
  {
   "cell_type": "code",
   "execution_count": 9,
   "id": "d95af5cf-3903-4765-8187-483b2434dde4",
   "metadata": {},
   "outputs": [
    {
     "data": {
      "text/plain": [
       "(3, 5)"
      ]
     },
     "execution_count": 9,
     "metadata": {},
     "output_type": "execute_result"
    }
   ],
   "source": [
    "c = np.array([[2, 4, 8, 12, 6],[7, 2, 34, 1, 9],[3, 5, 7, 1, 67]])\n",
    "c.shape"
   ]
  },
  {
   "cell_type": "code",
   "execution_count": 10,
   "id": "ec77a535-9c8b-41c6-8999-0720f1aca59d",
   "metadata": {},
   "outputs": [
    {
     "data": {
      "text/plain": [
       "15"
      ]
     },
     "execution_count": 10,
     "metadata": {},
     "output_type": "execute_result"
    }
   ],
   "source": [
    "c.size"
   ]
  },
  {
   "cell_type": "code",
   "execution_count": 11,
   "id": "244bc5d4-8001-4f5b-9a2d-70665984865d",
   "metadata": {},
   "outputs": [
    {
     "data": {
      "text/plain": [
       "4"
      ]
     },
     "execution_count": 11,
     "metadata": {},
     "output_type": "execute_result"
    }
   ],
   "source": [
    "c.itemsize"
   ]
  },
  {
   "cell_type": "code",
   "execution_count": 15,
   "id": "e7f9b904-e3cf-46f3-ab85-19cf87747d36",
   "metadata": {},
   "outputs": [
    {
     "data": {
      "text/plain": [
       "1"
      ]
     },
     "execution_count": 15,
     "metadata": {},
     "output_type": "execute_result"
    }
   ],
   "source": [
    "#the smallest number through the array across all axis\n",
    "np.min(c)"
   ]
  },
  {
   "cell_type": "code",
   "execution_count": 17,
   "id": "786e3758-ecea-41f8-9be5-b0f49eea9a82",
   "metadata": {},
   "outputs": [
    {
     "data": {
      "text/plain": [
       "1"
      ]
     },
     "execution_count": 17,
     "metadata": {},
     "output_type": "execute_result"
    }
   ],
   "source": [
    "#the smallest number through the array across all axis\n",
    "np.amin(c)"
   ]
  },
  {
   "cell_type": "code",
   "execution_count": 2,
   "id": "59844c51-b248-45ef-b163-052b3de4f828",
   "metadata": {},
   "outputs": [],
   "source": [
    " import numpy as np\n",
    "\n",
    "a = np.array([\n",
    "[3,5,7,9,2,4,6],\n",
    "[4,2,7,5,9,4,0],\n",
    "[6,1,6,8,9,3,5],\n",
    "[7,3,8,0,2,3,5]\n",
    "])"
   ]
  },
  {
   "cell_type": "code",
   "execution_count": 3,
   "id": "390ee3dd-1caf-4609-bc72-ebf12bbe0be8",
   "metadata": {},
   "outputs": [
    {
     "data": {
      "text/plain": [
       "array([3, 1, 6, 0, 2, 3, 0])"
      ]
     },
     "execution_count": 3,
     "metadata": {},
     "output_type": "execute_result"
    }
   ],
   "source": [
    "np.amin(a,0)"
   ]
  },
  {
   "cell_type": "code",
   "execution_count": 4,
   "id": "d80d50c9-ec5d-4359-ad31-351a52d15c9b",
   "metadata": {},
   "outputs": [
    {
     "data": {
      "text/plain": [
       "array([2, 0, 1, 0])"
      ]
     },
     "execution_count": 4,
     "metadata": {},
     "output_type": "execute_result"
    }
   ],
   "source": [
    "np.amin(a,1)"
   ]
  },
  {
   "cell_type": "code",
   "execution_count": 19,
   "id": "20e64cc2-8720-4c8b-a8d3-b3fbb637d4b4",
   "metadata": {},
   "outputs": [
    {
     "data": {
      "text/plain": [
       "array([2, 2, 7, 1, 6])"
      ]
     },
     "execution_count": 19,
     "metadata": {},
     "output_type": "execute_result"
    }
   ],
   "source": [
    "# min along axis-0 or rows;\n",
    "np.amin(c,0)\n"
   ]
  },
  {
   "cell_type": "code",
   "execution_count": 20,
   "id": "cb2080cd-311f-4ba3-b5ec-9f8f0b9b74dc",
   "metadata": {},
   "outputs": [
    {
     "data": {
      "text/plain": [
       "array([2, 1, 1])"
      ]
     },
     "execution_count": 20,
     "metadata": {},
     "output_type": "execute_result"
    }
   ],
   "source": [
    "# min along axis-1 or columns;\n",
    "np.amin(c,1)"
   ]
  },
  {
   "cell_type": "code",
   "execution_count": 6,
   "id": "2aa97067-49d5-44ff-ad6c-7814a21ba670",
   "metadata": {},
   "outputs": [
    {
     "data": {
      "text/plain": [
       "1.4000000000000001"
      ]
     },
     "execution_count": 6,
     "metadata": {},
     "output_type": "execute_result"
    }
   ],
   "source": [
    "#percentile\n",
    "#the second parameter is called q, q-th percentile gives a value below which q percentage of the values fall.\n",
    "# here 1.4 percentile of the elements fall below 10% of the population\n",
    "c = np.array([[2, 4, 8, 12, 6],[7, 2, 34, 1, 9],[3, 5, 7, 1, 67]])\n",
    "\n",
    "# elements = 15\n",
    "# smallest = 1 (freq =2); second lowest = 2 (freq=2)\n",
    "np.percentile(c,10)"
   ]
  },
  {
   "cell_type": "code",
   "execution_count": 9,
   "id": "6b1fe59c-436c-4ea3-8466-d0b636af9dd5",
   "metadata": {},
   "outputs": [
    {
     "data": {
      "text/plain": [
       "2.0"
      ]
     },
     "execution_count": 9,
     "metadata": {},
     "output_type": "execute_result"
    }
   ],
   "source": [
    "np.percentile(c, 20)"
   ]
  },
  {
   "cell_type": "code",
   "execution_count": 25,
   "id": "0de21091-28e4-43ac-9d48-2a7861f05994",
   "metadata": {},
   "outputs": [
    {
     "data": {
      "text/plain": [
       "4.6000000000000005"
      ]
     },
     "execution_count": 25,
     "metadata": {},
     "output_type": "execute_result"
    }
   ],
   "source": [
    "np.percentile(c, 40)"
   ]
  },
  {
   "cell_type": "code",
   "execution_count": 26,
   "id": "30d3b60b-01a5-43d4-a786-79c0bab40a4d",
   "metadata": {},
   "outputs": [],
   "source": [
    "#CENTRAL TENDENCIES"
   ]
  },
  {
   "cell_type": "code",
   "execution_count": 27,
   "id": "151b085a-761a-4aeb-b410-25a5c184dfa7",
   "metadata": {},
   "outputs": [
    {
     "data": {
      "text/plain": [
       "11.2"
      ]
     },
     "execution_count": 27,
     "metadata": {},
     "output_type": "execute_result"
    }
   ],
   "source": [
    "#Mean of the array\n",
    "np.mean(c)"
   ]
  },
  {
   "cell_type": "code",
   "execution_count": 28,
   "id": "a8bba6b5-9d86-46dd-9735-028e3a97422c",
   "metadata": {},
   "outputs": [
    {
     "data": {
      "text/plain": [
       "array([ 4.        ,  3.66666667, 16.33333333,  4.66666667, 27.33333333])"
      ]
     },
     "execution_count": 28,
     "metadata": {},
     "output_type": "execute_result"
    }
   ],
   "source": [
    "#mean of the array across axis-0\n",
    "np.mean(c,0)"
   ]
  },
  {
   "cell_type": "code",
   "execution_count": 29,
   "id": "9220eb4b-76f9-4807-85fa-a7831167f1fa",
   "metadata": {},
   "outputs": [
    {
     "data": {
      "text/plain": [
       "array([ 6.4, 10.6, 16.6])"
      ]
     },
     "execution_count": 29,
     "metadata": {},
     "output_type": "execute_result"
    }
   ],
   "source": [
    "#mean across axis-> 1\n",
    "np.mean(c, 1)"
   ]
  },
  {
   "cell_type": "code",
   "execution_count": 32,
   "id": "bcc49fc7-059b-44e8-87f0-21b08b3bf474",
   "metadata": {},
   "outputs": [
    {
     "data": {
      "text/plain": [
       "6.0"
      ]
     },
     "execution_count": 32,
     "metadata": {},
     "output_type": "execute_result"
    }
   ],
   "source": [
    "#median across the array\n",
    "np.median(c)"
   ]
  },
  {
   "cell_type": "code",
   "execution_count": 33,
   "id": "4da03806-a88b-4017-817a-f0b7465a8500",
   "metadata": {},
   "outputs": [
    {
     "data": {
      "text/plain": [
       "array([3., 4., 8., 1., 9.])"
      ]
     },
     "execution_count": 33,
     "metadata": {},
     "output_type": "execute_result"
    }
   ],
   "source": [
    "#median across axis 0\n",
    "np.median(c, 0)"
   ]
  },
  {
   "cell_type": "code",
   "execution_count": 34,
   "id": "c831f877-e194-4222-8be5-c0a21751ff99",
   "metadata": {},
   "outputs": [
    {
     "data": {
      "text/plain": [
       "11.2"
      ]
     },
     "execution_count": 34,
     "metadata": {},
     "output_type": "execute_result"
    }
   ],
   "source": [
    "#average\n",
    "np.average(c)"
   ]
  },
  {
   "cell_type": "code",
   "execution_count": 13,
   "id": "bcd9f171-9750-4a4e-846e-4bd1dbbe5fdd",
   "metadata": {},
   "outputs": [
    {
     "data": {
      "text/plain": [
       "array([ 1,  2,  3,  4,  5,  6,  7,  8,  9, 12, 34, 67])"
      ]
     },
     "execution_count": 13,
     "metadata": {},
     "output_type": "execute_result"
    }
   ],
   "source": [
    "#returns only unique items from the array, sorted\n",
    "# sort & duplicates removal, dimenisons to 1d\n",
    "np.unique(c)"
   ]
  },
  {
   "cell_type": "code",
   "execution_count": 10,
   "id": "30133b52-a91a-4f55-9499-c56adcf759c3",
   "metadata": {},
   "outputs": [
    {
     "name": "stdout",
     "output_type": "stream",
     "text": [
      "[[ 9 23  2  1  5]\n",
      " [ 1  9  2  4  6]\n",
      " [ 3  0  5  2  1]]\n",
      "\n",
      "[ 0  1  2  3  4  5  6  9 23]\n"
     ]
    }
   ],
   "source": [
    "d = np.array([[9,23,2,1,5],[1,9,2,4,6],[3,0,5,2,1]])\n",
    "print(d)\n",
    "print()\n",
    "print(np.unique(d))"
   ]
  },
  {
   "cell_type": "code",
   "execution_count": 36,
   "id": "7e5d8289-bee4-4031-96c8-17809357b42a",
   "metadata": {},
   "outputs": [
    {
     "data": {
      "text/plain": [
       "array([ 2,  3,  4,  6,  7,  8,  9, 10])"
      ]
     },
     "execution_count": 36,
     "metadata": {},
     "output_type": "execute_result"
    }
   ],
   "source": [
    "d = np.array([4, 3, 9, 4, 2, 7, 2, 8, 10, 6, 8, 3])\n",
    "np.unique(d)"
   ]
  },
  {
   "cell_type": "code",
   "execution_count": 41,
   "id": "ae12ebf8-093c-4e9d-af43-2e99a1fdcbc5",
   "metadata": {},
   "outputs": [
    {
     "data": {
      "text/plain": [
       "array([15, 18, 23, 23, 16, 22, 22, 15])"
      ]
     },
     "execution_count": 41,
     "metadata": {},
     "output_type": "execute_result"
    }
   ],
   "source": [
    "e = np.random.randint(14,28,8)\n",
    "e"
   ]
  },
  {
   "cell_type": "code",
   "execution_count": 45,
   "id": "19a79020-3960-4fe1-9a34-39613ab22544",
   "metadata": {},
   "outputs": [
    {
     "data": {
      "text/plain": [
       "(array([2, 1, 0, 1, 0, 0, 0, 0, 2, 2], dtype=int64),\n",
       " array([15. , 15.8, 16.6, 17.4, 18.2, 19. , 19.8, 20.6, 21.4, 22.2, 23. ]))"
      ]
     },
     "execution_count": 45,
     "metadata": {},
     "output_type": "execute_result"
    }
   ],
   "source": [
    "#creates a histogram distribution for the range\n",
    "np.histogram(e)"
   ]
  },
  {
   "cell_type": "code",
   "execution_count": 50,
   "id": "e65de3f1-8ec3-498f-9bab-2d95dc65eca8",
   "metadata": {},
   "outputs": [
    {
     "data": {
      "text/plain": [
       "(array([3, 1, 0, 0, 4], dtype=int64),\n",
       " array([15. , 16.6, 18.2, 19.8, 21.4, 23. ]))"
      ]
     },
     "execution_count": 50,
     "metadata": {},
     "output_type": "execute_result"
    }
   ],
   "source": [
    "# creates histogram range, with the number of ranges = bins declared; alongwith the frequency\n",
    "np.histogram(e, bins=5)"
   ]
  },
  {
   "cell_type": "code",
   "execution_count": 51,
   "id": "4013b1dc-ce23-4964-acc3-3ea3311da9f1",
   "metadata": {},
   "outputs": [
    {
     "data": {
      "text/plain": [
       "(array([2, 1, 0, 1, 0, 0, 0, 4], dtype=int64),\n",
       " array([15., 16., 17., 18., 19., 20., 21., 22., 23.]))"
      ]
     },
     "execution_count": 51,
     "metadata": {},
     "output_type": "execute_result"
    }
   ],
   "source": [
    "np.histogram(e, bins=8)"
   ]
  },
  {
   "cell_type": "code",
   "execution_count": 53,
   "id": "9267b3dd-3f82-4f67-97ff-61056c09217c",
   "metadata": {},
   "outputs": [
    {
     "data": {
      "text/plain": [
       "array([ 2,  4,  8, 12,  6,  7,  2, 34,  1,  9,  3,  5,  7,  1, 67])"
      ]
     },
     "execution_count": 53,
     "metadata": {},
     "output_type": "execute_result"
    }
   ],
   "source": [
    "#flatten function to flatten a multidimensional array to 1d array\n",
    "c = np.array([[2, 4, 8, 12, 6],[7, 2, 34, 1, 9],[3, 5, 7, 1, 67]])\n",
    "f = c.flatten()\n",
    "f"
   ]
  },
  {
   "cell_type": "code",
   "execution_count": 54,
   "id": "de809877-3115-42fc-9552-273ed16e4f41",
   "metadata": {},
   "outputs": [
    {
     "data": {
      "text/plain": [
       "16.825377657970513"
      ]
     },
     "execution_count": 54,
     "metadata": {},
     "output_type": "execute_result"
    }
   ],
   "source": [
    "# std -> standard deviation in a set of data\n",
    "np.std(f)"
   ]
  },
  {
   "cell_type": "code",
   "execution_count": 55,
   "id": "9abfebb4-5471-4ef2-b686-68b4ad12482e",
   "metadata": {},
   "outputs": [
    {
     "data": {
      "text/plain": [
       "2.8722813232690143"
      ]
     },
     "execution_count": 55,
     "metadata": {},
     "output_type": "execute_result"
    }
   ],
   "source": [
    "np.std(a)"
   ]
  },
  {
   "cell_type": "code",
   "execution_count": 56,
   "id": "8e17a902-1ed6-4acc-9168-3a7a3ecd6bb9",
   "metadata": {},
   "outputs": [
    {
     "data": {
      "text/plain": [
       "4.5"
      ]
     },
     "execution_count": 56,
     "metadata": {},
     "output_type": "execute_result"
    }
   ],
   "source": [
    "np.mean(a)"
   ]
  },
  {
   "cell_type": "code",
   "execution_count": 11,
   "id": "2cf94858-e69c-4829-8af9-44d54b783b47",
   "metadata": {},
   "outputs": [
    {
     "data": {
      "text/plain": [
       "array([26, 31, 25, 24, 34, 31, 22, 25, 21, 24])"
      ]
     },
     "execution_count": 11,
     "metadata": {},
     "output_type": "execute_result"
    }
   ],
   "source": [
    "e = np.random.randint(20,35,10)\n",
    "e"
   ]
  },
  {
   "cell_type": "code",
   "execution_count": 12,
   "id": "618c9858-b1bc-49c4-8177-c7b427f372ca",
   "metadata": {},
   "outputs": [
    {
     "data": {
      "text/plain": [
       "(array([2, 0, 2, 3, 0, 0, 0, 2, 0, 1], dtype=int64),\n",
       " array([21. , 22.3, 23.6, 24.9, 26.2, 27.5, 28.8, 30.1, 31.4, 32.7, 34. ]))"
      ]
     },
     "execution_count": 12,
     "metadata": {},
     "output_type": "execute_result"
    }
   ],
   "source": [
    "np.histogram(e)"
   ]
  },
  {
   "cell_type": "code",
   "execution_count": null,
   "id": "098fabee-c979-43b5-ad07-8e19066054cd",
   "metadata": {},
   "outputs": [],
   "source": []
  }
 ],
 "metadata": {
  "kernelspec": {
   "display_name": "Python 3 (ipykernel)",
   "language": "python",
   "name": "python3"
  },
  "language_info": {
   "codemirror_mode": {
    "name": "ipython",
    "version": 3
   },
   "file_extension": ".py",
   "mimetype": "text/x-python",
   "name": "python",
   "nbconvert_exporter": "python",
   "pygments_lexer": "ipython3",
   "version": "3.11.5"
  }
 },
 "nbformat": 4,
 "nbformat_minor": 5
}
