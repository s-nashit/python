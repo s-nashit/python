{
 "cells": [
  {
   "cell_type": "code",
   "execution_count": 23,
   "id": "bd3c2165-10a5-4db7-acda-c54aaf0674e2",
   "metadata": {},
   "outputs": [],
   "source": [
    "from bs4 import BeautifulSoup\n",
    "import requests\n",
    "import time\n",
    "import datetime"
   ]
  },
  {
   "cell_type": "code",
   "execution_count": 6,
   "id": "5e997b35-76b0-4df1-9238-ce8ac8dfd51c",
   "metadata": {},
   "outputs": [
    {
     "ename": "AttributeError",
     "evalue": "'NoneType' object has no attribute 'get_text'",
     "output_type": "error",
     "traceback": [
      "\u001b[1;31m---------------------------------------------------------------------------\u001b[0m",
      "\u001b[1;31mAttributeError\u001b[0m                            Traceback (most recent call last)",
      "Cell \u001b[1;32mIn[6], line 5\u001b[0m\n\u001b[0;32m      2\u001b[0m page \u001b[38;5;241m=\u001b[39m requests\u001b[38;5;241m.\u001b[39mget(URL)\n\u001b[0;32m      3\u001b[0m soup \u001b[38;5;241m=\u001b[39m BeautifulSoup(page\u001b[38;5;241m.\u001b[39mcontent, \u001b[38;5;124m\"\u001b[39m\u001b[38;5;124mlxml\u001b[39m\u001b[38;5;124m\"\u001b[39m)\n\u001b[1;32m----> 5\u001b[0m title \u001b[38;5;241m=\u001b[39m \u001b[43msoup\u001b[49m\u001b[38;5;241;43m.\u001b[39;49m\u001b[43mfind\u001b[49m\u001b[43m(\u001b[49m\u001b[38;5;28;43mid\u001b[39;49m\u001b[38;5;241;43m=\u001b[39;49m\u001b[38;5;124;43m\"\u001b[39;49m\u001b[38;5;124;43mproductTitle\u001b[39;49m\u001b[38;5;124;43m\"\u001b[39;49m\u001b[43m)\u001b[49m\u001b[38;5;241;43m.\u001b[39;49m\u001b[43mget_text\u001b[49m()\n\u001b[0;32m      6\u001b[0m price \u001b[38;5;241m=\u001b[39m soup\u001b[38;5;241m.\u001b[39mfind(\u001b[38;5;28mid\u001b[39m\u001b[38;5;241m=\u001b[39m\u001b[38;5;124m\"\u001b[39m\u001b[38;5;124mpriceblock_ourprice\u001b[39m\u001b[38;5;124m\"\u001b[39m)\u001b[38;5;241m.\u001b[39mget_text()\n\u001b[0;32m      8\u001b[0m \u001b[38;5;28mprint\u001b[39m(title)\n",
      "\u001b[1;31mAttributeError\u001b[0m: 'NoneType' object has no attribute 'get_text'"
     ]
    }
   ],
   "source": [
    "URL = \"https://www.flipkart.com/mobile-phones-big-billion-days23-sneak-peek-jg39eowe-store?param=99999\"\n",
    "page = requests.get(URL)\n",
    "soup = BeautifulSoup(page.content, \"lxml\")\n",
    "\n",
    "title = soup.find(id=\"productTitle\").get_text()\n",
    "price = soup.find(id=\"priceblock_ourprice\").get_text()\n",
    "\n",
    "print(title)\n",
    "print(price)"
   ]
  },
  {
   "cell_type": "code",
   "execution_count": 7,
   "id": "5deed1da-691d-49d3-a680-725cf2b59e58",
   "metadata": {},
   "outputs": [],
   "source": [
    "from bs4 import BeautifulSoup\n",
    "import re # import Regular expression operations module\n",
    "import requests\n",
    "from time import gmtime, strftime\n"
   ]
  },
  {
   "cell_type": "code",
   "execution_count": 16,
   "id": "a793735e-6113-4498-945f-a2d1ee1c57d4",
   "metadata": {},
   "outputs": [
    {
     "name": "stdin",
     "output_type": "stream",
     "text": [
      "Enter the product category you want to search for:  laptop\n"
     ]
    }
   ],
   "source": [
    "a = []\n",
    "url_str = input(\"Enter the product category you want to search for: \")\n",
    "url = []"
   ]
  },
  {
   "cell_type": "code",
   "execution_count": 17,
   "id": "327cd6bf-7b6b-4093-bf61-ab364d778a34",
   "metadata": {},
   "outputs": [],
   "source": [
    "words = url_str.split()\n",
    "var = len(words)"
   ]
  },
  {
   "cell_type": "code",
   "execution_count": 18,
   "id": "df7e11a4-dbfb-4785-ace5-014194bd65f1",
   "metadata": {},
   "outputs": [],
   "source": [
    "if var == 1:\n",
    "\turl = \"https://www.amazon.com/s/ref=nb_sb_noss_1?url=search-alias%3Daps&field-keywords=\" + words[0]\n",
    "\n",
    "if var == 2:\n",
    "\turl = \"https://www.amazon.com/s/ref=nb_sb_noss_1?url=search-alias%3Daps&field-keywords=\" + words[0] + \"+\" + words[1]\n",
    "\n",
    "elif var == 3:\n",
    "\turl = \"https://www.amazon.com/s/ref=nb_sb_noss_1?url=search-alias%3Daps&field-keywords=\" + words[0] + \"+\" + words[1] + \"+\" + words[2]\n"
   ]
  },
  {
   "cell_type": "code",
   "execution_count": 19,
   "id": "836050ca-1e07-43ed-adcd-562983e8b04b",
   "metadata": {},
   "outputs": [
    {
     "ename": "AttributeError",
     "evalue": "'str' object has no attribute 'items'",
     "output_type": "error",
     "traceback": [
      "\u001b[1;31m---------------------------------------------------------------------------\u001b[0m",
      "\u001b[1;31mAttributeError\u001b[0m                            Traceback (most recent call last)",
      "Cell \u001b[1;32mIn[19], line 3\u001b[0m\n\u001b[0;32m      1\u001b[0m eaders \u001b[38;5;241m=\u001b[39m {\u001b[38;5;124m'\u001b[39m\u001b[38;5;124mUser-Agent\u001b[39m\u001b[38;5;124m'\u001b[39m: \u001b[38;5;124m'\u001b[39m\u001b[38;5;124mMozilla/5.0 (Windows NT 6.3; Win64; x64) AppleWebKit/537.36 (KHTML, like Gecko) Chrome/54.0.2840.71 Safari/537.36\u001b[39m\u001b[38;5;124m'\u001b[39m}\n\u001b[1;32m----> 3\u001b[0m r \u001b[38;5;241m=\u001b[39m \u001b[43mrequests\u001b[49m\u001b[38;5;241;43m.\u001b[39;49m\u001b[43mget\u001b[49m\u001b[43m(\u001b[49m\u001b[43murl\u001b[49m\u001b[43m,\u001b[49m\u001b[43m \u001b[49m\u001b[43mheaders\u001b[49m\u001b[38;5;241;43m=\u001b[39;49m\u001b[43mheaders\u001b[49m\u001b[43m)\u001b[49m\n\u001b[0;32m      5\u001b[0m \u001b[38;5;66;03m# print(r) # print request to see if Response 200\u001b[39;00m\n\u001b[0;32m      7\u001b[0m soup \u001b[38;5;241m=\u001b[39m BeautifulSoup(r\u001b[38;5;241m.\u001b[39mcontent, \u001b[38;5;124m\"\u001b[39m\u001b[38;5;124mhtml.parser\u001b[39m\u001b[38;5;124m\"\u001b[39m)\n",
      "File \u001b[1;32m~\\AppData\\Local\\Programs\\Python\\Python311\\Lib\\site-packages\\requests\\api.py:73\u001b[0m, in \u001b[0;36mget\u001b[1;34m(url, params, **kwargs)\u001b[0m\n\u001b[0;32m     62\u001b[0m \u001b[38;5;28;01mdef\u001b[39;00m \u001b[38;5;21mget\u001b[39m(url, params\u001b[38;5;241m=\u001b[39m\u001b[38;5;28;01mNone\u001b[39;00m, \u001b[38;5;241m*\u001b[39m\u001b[38;5;241m*\u001b[39mkwargs):\n\u001b[0;32m     63\u001b[0m \u001b[38;5;250m    \u001b[39m\u001b[38;5;124mr\u001b[39m\u001b[38;5;124;03m\"\"\"Sends a GET request.\u001b[39;00m\n\u001b[0;32m     64\u001b[0m \n\u001b[0;32m     65\u001b[0m \u001b[38;5;124;03m    :param url: URL for the new :class:`Request` object.\u001b[39;00m\n\u001b[1;32m   (...)\u001b[0m\n\u001b[0;32m     70\u001b[0m \u001b[38;5;124;03m    :rtype: requests.Response\u001b[39;00m\n\u001b[0;32m     71\u001b[0m \u001b[38;5;124;03m    \"\"\"\u001b[39;00m\n\u001b[1;32m---> 73\u001b[0m     \u001b[38;5;28;01mreturn\u001b[39;00m \u001b[43mrequest\u001b[49m\u001b[43m(\u001b[49m\u001b[38;5;124;43m\"\u001b[39;49m\u001b[38;5;124;43mget\u001b[39;49m\u001b[38;5;124;43m\"\u001b[39;49m\u001b[43m,\u001b[49m\u001b[43m \u001b[49m\u001b[43murl\u001b[49m\u001b[43m,\u001b[49m\u001b[43m \u001b[49m\u001b[43mparams\u001b[49m\u001b[38;5;241;43m=\u001b[39;49m\u001b[43mparams\u001b[49m\u001b[43m,\u001b[49m\u001b[43m \u001b[49m\u001b[38;5;241;43m*\u001b[39;49m\u001b[38;5;241;43m*\u001b[39;49m\u001b[43mkwargs\u001b[49m\u001b[43m)\u001b[49m\n",
      "File \u001b[1;32m~\\AppData\\Local\\Programs\\Python\\Python311\\Lib\\site-packages\\requests\\api.py:59\u001b[0m, in \u001b[0;36mrequest\u001b[1;34m(method, url, **kwargs)\u001b[0m\n\u001b[0;32m     55\u001b[0m \u001b[38;5;66;03m# By using the 'with' statement we are sure the session is closed, thus we\u001b[39;00m\n\u001b[0;32m     56\u001b[0m \u001b[38;5;66;03m# avoid leaving sockets open which can trigger a ResourceWarning in some\u001b[39;00m\n\u001b[0;32m     57\u001b[0m \u001b[38;5;66;03m# cases, and look like a memory leak in others.\u001b[39;00m\n\u001b[0;32m     58\u001b[0m \u001b[38;5;28;01mwith\u001b[39;00m sessions\u001b[38;5;241m.\u001b[39mSession() \u001b[38;5;28;01mas\u001b[39;00m session:\n\u001b[1;32m---> 59\u001b[0m     \u001b[38;5;28;01mreturn\u001b[39;00m \u001b[43msession\u001b[49m\u001b[38;5;241;43m.\u001b[39;49m\u001b[43mrequest\u001b[49m\u001b[43m(\u001b[49m\u001b[43mmethod\u001b[49m\u001b[38;5;241;43m=\u001b[39;49m\u001b[43mmethod\u001b[49m\u001b[43m,\u001b[49m\u001b[43m \u001b[49m\u001b[43murl\u001b[49m\u001b[38;5;241;43m=\u001b[39;49m\u001b[43murl\u001b[49m\u001b[43m,\u001b[49m\u001b[43m \u001b[49m\u001b[38;5;241;43m*\u001b[39;49m\u001b[38;5;241;43m*\u001b[39;49m\u001b[43mkwargs\u001b[49m\u001b[43m)\u001b[49m\n",
      "File \u001b[1;32m~\\AppData\\Local\\Programs\\Python\\Python311\\Lib\\site-packages\\requests\\sessions.py:575\u001b[0m, in \u001b[0;36mSession.request\u001b[1;34m(self, method, url, params, data, headers, cookies, files, auth, timeout, allow_redirects, proxies, hooks, stream, verify, cert, json)\u001b[0m\n\u001b[0;32m    562\u001b[0m \u001b[38;5;66;03m# Create the Request.\u001b[39;00m\n\u001b[0;32m    563\u001b[0m req \u001b[38;5;241m=\u001b[39m Request(\n\u001b[0;32m    564\u001b[0m     method\u001b[38;5;241m=\u001b[39mmethod\u001b[38;5;241m.\u001b[39mupper(),\n\u001b[0;32m    565\u001b[0m     url\u001b[38;5;241m=\u001b[39murl,\n\u001b[1;32m   (...)\u001b[0m\n\u001b[0;32m    573\u001b[0m     hooks\u001b[38;5;241m=\u001b[39mhooks,\n\u001b[0;32m    574\u001b[0m )\n\u001b[1;32m--> 575\u001b[0m prep \u001b[38;5;241m=\u001b[39m \u001b[38;5;28;43mself\u001b[39;49m\u001b[38;5;241;43m.\u001b[39;49m\u001b[43mprepare_request\u001b[49m\u001b[43m(\u001b[49m\u001b[43mreq\u001b[49m\u001b[43m)\u001b[49m\n\u001b[0;32m    577\u001b[0m proxies \u001b[38;5;241m=\u001b[39m proxies \u001b[38;5;129;01mor\u001b[39;00m {}\n\u001b[0;32m    579\u001b[0m settings \u001b[38;5;241m=\u001b[39m \u001b[38;5;28mself\u001b[39m\u001b[38;5;241m.\u001b[39mmerge_environment_settings(\n\u001b[0;32m    580\u001b[0m     prep\u001b[38;5;241m.\u001b[39murl, proxies, stream, verify, cert\n\u001b[0;32m    581\u001b[0m )\n",
      "File \u001b[1;32m~\\AppData\\Local\\Programs\\Python\\Python311\\Lib\\site-packages\\requests\\sessions.py:486\u001b[0m, in \u001b[0;36mSession.prepare_request\u001b[1;34m(self, request)\u001b[0m\n\u001b[0;32m    483\u001b[0m     auth \u001b[38;5;241m=\u001b[39m get_netrc_auth(request\u001b[38;5;241m.\u001b[39murl)\n\u001b[0;32m    485\u001b[0m p \u001b[38;5;241m=\u001b[39m PreparedRequest()\n\u001b[1;32m--> 486\u001b[0m \u001b[43mp\u001b[49m\u001b[38;5;241;43m.\u001b[39;49m\u001b[43mprepare\u001b[49m\u001b[43m(\u001b[49m\n\u001b[0;32m    487\u001b[0m \u001b[43m    \u001b[49m\u001b[43mmethod\u001b[49m\u001b[38;5;241;43m=\u001b[39;49m\u001b[43mrequest\u001b[49m\u001b[38;5;241;43m.\u001b[39;49m\u001b[43mmethod\u001b[49m\u001b[38;5;241;43m.\u001b[39;49m\u001b[43mupper\u001b[49m\u001b[43m(\u001b[49m\u001b[43m)\u001b[49m\u001b[43m,\u001b[49m\n\u001b[0;32m    488\u001b[0m \u001b[43m    \u001b[49m\u001b[43murl\u001b[49m\u001b[38;5;241;43m=\u001b[39;49m\u001b[43mrequest\u001b[49m\u001b[38;5;241;43m.\u001b[39;49m\u001b[43murl\u001b[49m\u001b[43m,\u001b[49m\n\u001b[0;32m    489\u001b[0m \u001b[43m    \u001b[49m\u001b[43mfiles\u001b[49m\u001b[38;5;241;43m=\u001b[39;49m\u001b[43mrequest\u001b[49m\u001b[38;5;241;43m.\u001b[39;49m\u001b[43mfiles\u001b[49m\u001b[43m,\u001b[49m\n\u001b[0;32m    490\u001b[0m \u001b[43m    \u001b[49m\u001b[43mdata\u001b[49m\u001b[38;5;241;43m=\u001b[39;49m\u001b[43mrequest\u001b[49m\u001b[38;5;241;43m.\u001b[39;49m\u001b[43mdata\u001b[49m\u001b[43m,\u001b[49m\n\u001b[0;32m    491\u001b[0m \u001b[43m    \u001b[49m\u001b[43mjson\u001b[49m\u001b[38;5;241;43m=\u001b[39;49m\u001b[43mrequest\u001b[49m\u001b[38;5;241;43m.\u001b[39;49m\u001b[43mjson\u001b[49m\u001b[43m,\u001b[49m\n\u001b[0;32m    492\u001b[0m \u001b[43m    \u001b[49m\u001b[43mheaders\u001b[49m\u001b[38;5;241;43m=\u001b[39;49m\u001b[43mmerge_setting\u001b[49m\u001b[43m(\u001b[49m\n\u001b[0;32m    493\u001b[0m \u001b[43m        \u001b[49m\u001b[43mrequest\u001b[49m\u001b[38;5;241;43m.\u001b[39;49m\u001b[43mheaders\u001b[49m\u001b[43m,\u001b[49m\u001b[43m \u001b[49m\u001b[38;5;28;43mself\u001b[39;49m\u001b[38;5;241;43m.\u001b[39;49m\u001b[43mheaders\u001b[49m\u001b[43m,\u001b[49m\u001b[43m \u001b[49m\u001b[43mdict_class\u001b[49m\u001b[38;5;241;43m=\u001b[39;49m\u001b[43mCaseInsensitiveDict\u001b[49m\n\u001b[0;32m    494\u001b[0m \u001b[43m    \u001b[49m\u001b[43m)\u001b[49m\u001b[43m,\u001b[49m\n\u001b[0;32m    495\u001b[0m \u001b[43m    \u001b[49m\u001b[43mparams\u001b[49m\u001b[38;5;241;43m=\u001b[39;49m\u001b[43mmerge_setting\u001b[49m\u001b[43m(\u001b[49m\u001b[43mrequest\u001b[49m\u001b[38;5;241;43m.\u001b[39;49m\u001b[43mparams\u001b[49m\u001b[43m,\u001b[49m\u001b[43m \u001b[49m\u001b[38;5;28;43mself\u001b[39;49m\u001b[38;5;241;43m.\u001b[39;49m\u001b[43mparams\u001b[49m\u001b[43m)\u001b[49m\u001b[43m,\u001b[49m\n\u001b[0;32m    496\u001b[0m \u001b[43m    \u001b[49m\u001b[43mauth\u001b[49m\u001b[38;5;241;43m=\u001b[39;49m\u001b[43mmerge_setting\u001b[49m\u001b[43m(\u001b[49m\u001b[43mauth\u001b[49m\u001b[43m,\u001b[49m\u001b[43m \u001b[49m\u001b[38;5;28;43mself\u001b[39;49m\u001b[38;5;241;43m.\u001b[39;49m\u001b[43mauth\u001b[49m\u001b[43m)\u001b[49m\u001b[43m,\u001b[49m\n\u001b[0;32m    497\u001b[0m \u001b[43m    \u001b[49m\u001b[43mcookies\u001b[49m\u001b[38;5;241;43m=\u001b[39;49m\u001b[43mmerged_cookies\u001b[49m\u001b[43m,\u001b[49m\n\u001b[0;32m    498\u001b[0m \u001b[43m    \u001b[49m\u001b[43mhooks\u001b[49m\u001b[38;5;241;43m=\u001b[39;49m\u001b[43mmerge_hooks\u001b[49m\u001b[43m(\u001b[49m\u001b[43mrequest\u001b[49m\u001b[38;5;241;43m.\u001b[39;49m\u001b[43mhooks\u001b[49m\u001b[43m,\u001b[49m\u001b[43m \u001b[49m\u001b[38;5;28;43mself\u001b[39;49m\u001b[38;5;241;43m.\u001b[39;49m\u001b[43mhooks\u001b[49m\u001b[43m)\u001b[49m\u001b[43m,\u001b[49m\n\u001b[0;32m    499\u001b[0m \u001b[43m\u001b[49m\u001b[43m)\u001b[49m\n\u001b[0;32m    500\u001b[0m \u001b[38;5;28;01mreturn\u001b[39;00m p\n",
      "File \u001b[1;32m~\\AppData\\Local\\Programs\\Python\\Python311\\Lib\\site-packages\\requests\\models.py:369\u001b[0m, in \u001b[0;36mPreparedRequest.prepare\u001b[1;34m(self, method, url, headers, files, data, params, auth, cookies, hooks, json)\u001b[0m\n\u001b[0;32m    367\u001b[0m \u001b[38;5;28mself\u001b[39m\u001b[38;5;241m.\u001b[39mprepare_method(method)\n\u001b[0;32m    368\u001b[0m \u001b[38;5;28mself\u001b[39m\u001b[38;5;241m.\u001b[39mprepare_url(url, params)\n\u001b[1;32m--> 369\u001b[0m \u001b[38;5;28;43mself\u001b[39;49m\u001b[38;5;241;43m.\u001b[39;49m\u001b[43mprepare_headers\u001b[49m\u001b[43m(\u001b[49m\u001b[43mheaders\u001b[49m\u001b[43m)\u001b[49m\n\u001b[0;32m    370\u001b[0m \u001b[38;5;28mself\u001b[39m\u001b[38;5;241m.\u001b[39mprepare_cookies(cookies)\n\u001b[0;32m    371\u001b[0m \u001b[38;5;28mself\u001b[39m\u001b[38;5;241m.\u001b[39mprepare_body(data, files, json)\n",
      "File \u001b[1;32m~\\AppData\\Local\\Programs\\Python\\Python311\\Lib\\site-packages\\requests\\models.py:489\u001b[0m, in \u001b[0;36mPreparedRequest.prepare_headers\u001b[1;34m(self, headers)\u001b[0m\n\u001b[0;32m    487\u001b[0m \u001b[38;5;28mself\u001b[39m\u001b[38;5;241m.\u001b[39mheaders \u001b[38;5;241m=\u001b[39m CaseInsensitiveDict()\n\u001b[0;32m    488\u001b[0m \u001b[38;5;28;01mif\u001b[39;00m headers:\n\u001b[1;32m--> 489\u001b[0m     \u001b[38;5;28;01mfor\u001b[39;00m header \u001b[38;5;129;01min\u001b[39;00m \u001b[43mheaders\u001b[49m\u001b[38;5;241;43m.\u001b[39;49m\u001b[43mitems\u001b[49m():\n\u001b[0;32m    490\u001b[0m         \u001b[38;5;66;03m# Raise exception on invalid header value.\u001b[39;00m\n\u001b[0;32m    491\u001b[0m         check_header_validity(header)\n\u001b[0;32m    492\u001b[0m         name, value \u001b[38;5;241m=\u001b[39m header\n",
      "\u001b[1;31mAttributeError\u001b[0m: 'str' object has no attribute 'items'"
     ]
    }
   ],
   "source": [
    "eaders = {'User-Agent': 'Mozilla/5.0 (Windows NT 6.3; Win64; x64) AppleWebKit/537.36 (KHTML, like Gecko) Chrome/54.0.2840.71 Safari/537.36'}\n",
    "\n",
    "r = requests.get(url, headers=headers)\n",
    "\n",
    "# print(r) # print request to see if Response 200\n",
    "\n",
    "soup = BeautifulSoup(r.content, \"html.parser\")\n",
    "\n",
    "# Csv writing setup\n",
    "filename = \"products.csv\"\n",
    "f = open(filename, \"w\", encoding='utf-8')"
   ]
  },
  {
   "cell_type": "code",
   "execution_count": 20,
   "id": "c5a1edb1-cce8-4a9f-8ab2-0095bbbc15ae",
   "metadata": {},
   "outputs": [
    {
     "ename": "ValueError",
     "evalue": "I/O operation on closed file.",
     "output_type": "error",
     "traceback": [
      "\u001b[1;31m---------------------------------------------------------------------------\u001b[0m",
      "\u001b[1;31mValueError\u001b[0m                                Traceback (most recent call last)",
      "Cell \u001b[1;32mIn[20], line 4\u001b[0m\n\u001b[0;32m      1\u001b[0m strftime(\u001b[38;5;124m\"\u001b[39m\u001b[38;5;124m%\u001b[39m\u001b[38;5;124mY-\u001b[39m\u001b[38;5;124m%\u001b[39m\u001b[38;5;124mm-\u001b[39m\u001b[38;5;132;01m%d\u001b[39;00m\u001b[38;5;124m \u001b[39m\u001b[38;5;124m%\u001b[39m\u001b[38;5;124mH:\u001b[39m\u001b[38;5;124m%\u001b[39m\u001b[38;5;124mM:\u001b[39m\u001b[38;5;124m%\u001b[39m\u001b[38;5;124mS\u001b[39m\u001b[38;5;124m\"\u001b[39m, gmtime())\n\u001b[0;32m      3\u001b[0m headers \u001b[38;5;241m=\u001b[39m\u001b[38;5;124m\"\u001b[39m\u001b[38;5;124mAsin, Name,\u001b[39m\u001b[38;5;124m\"\u001b[39m \u001b[38;5;241m+\u001b[39m \u001b[38;5;124m\"\u001b[39m\u001b[38;5;124mPrice : \u001b[39m\u001b[38;5;124m\"\u001b[39m \u001b[38;5;241m+\u001b[39m strftime(\u001b[38;5;124m\"\u001b[39m\u001b[38;5;124m%\u001b[39m\u001b[38;5;124mY-\u001b[39m\u001b[38;5;124m%\u001b[39m\u001b[38;5;124mm-\u001b[39m\u001b[38;5;132;01m%d\u001b[39;00m\u001b[38;5;124m \u001b[39m\u001b[38;5;124m%\u001b[39m\u001b[38;5;124mH:\u001b[39m\u001b[38;5;124m%\u001b[39m\u001b[38;5;124mM:\u001b[39m\u001b[38;5;124m%\u001b[39m\u001b[38;5;124mS\u001b[39m\u001b[38;5;124m\"\u001b[39m, gmtime()) \u001b[38;5;241m+\u001b[39m \u001b[38;5;124m\"\u001b[39m\u001b[38;5;124m, Number of Reviews\u001b[39m\u001b[38;5;130;01m\\n\u001b[39;00m\u001b[38;5;124m\"\u001b[39m\n\u001b[1;32m----> 4\u001b[0m \u001b[43mf\u001b[49m\u001b[38;5;241;43m.\u001b[39;49m\u001b[43mwrite\u001b[49m\u001b[43m(\u001b[49m\u001b[43mheaders\u001b[49m\u001b[43m)\u001b[49m\n\u001b[0;32m      6\u001b[0m \u001b[38;5;66;03m# Regex if needed\u001b[39;00m\n\u001b[0;32m      7\u001b[0m \u001b[38;5;66;03m# a = re.compile((?<=data-asin))\u001b[39;00m\n\u001b[0;32m      8\u001b[0m \u001b[38;5;66;03m# Used this to beautify and inspect the html/xml data ----> http://jsbeautifier.org/\u001b[39;00m\n\u001b[0;32m      9\u001b[0m \n\u001b[0;32m     10\u001b[0m \n\u001b[0;32m     11\u001b[0m \u001b[38;5;66;03m# Style 1 of Amazon's product display\u001b[39;00m\n\u001b[0;32m     12\u001b[0m containers1 \u001b[38;5;241m=\u001b[39m soup\u001b[38;5;241m.\u001b[39mfindAll(\u001b[38;5;124m\"\u001b[39m\u001b[38;5;124mli\u001b[39m\u001b[38;5;124m\"\u001b[39m, {\u001b[38;5;124m\"\u001b[39m\u001b[38;5;124mclass\u001b[39m\u001b[38;5;124m\"\u001b[39m:\u001b[38;5;124m\"\u001b[39m\u001b[38;5;124ms-result-item s-result-card-for-container a-declarative celwidget \u001b[39m\u001b[38;5;124m\"\u001b[39m})\n",
      "\u001b[1;31mValueError\u001b[0m: I/O operation on closed file."
     ]
    }
   ],
   "source": [
    "strftime(\"%Y-%m-%d %H:%M:%S\", gmtime())\n",
    "\n",
    "headers =\"Asin, Name,\" + \"Price : \" + strftime(\"%Y-%m-%d %H:%M:%S\", gmtime()) + \", Number of Reviews\\n\"\n",
    "f.write(headers)\n",
    "\n",
    "# Regex if needed\n",
    "# a = re.compile((?<=data-asin))\n",
    "# Used this to beautify and inspect the html/xml data ----> http://jsbeautifier.org/\n",
    "\n",
    "\n",
    "# Style 1 of Amazon's product display\n",
    "containers1 = soup.findAll(\"li\", {\"class\":\"s-result-item s-result-card-for-container a-declarative celwidget \"})\n",
    "print(\"containers style 1: \", len(containers1))\n",
    "\n",
    "#page could be styled different, invoke query second style\n",
    "containers2 = soup.findAll(\"li\", {\"class\":\"s-result-item s-result-card-for-container s-carded-grid celwidget \"})\n",
    "print(\"containers style 2: \", len(containers2))\n",
    "\n",
    "#check for sponsored containers\n",
    "sponsored_containers = soup.findAll(\"li\", {\"class\":\"s-result-item celwidget AdHolder\"}) \n",
    "print(\"containers style 3 sponsored: \", len(sponsored_containers))\n",
    "\n",
    "#check for the most common style\n",
    "common_containers = soup.findAll(\"li\", {\"class\":\"s-result-item celwidget \"})  \n",
    "print(\"containers style 4 common: \", len(common_containers))\n",
    "\n",
    "#check for special style\n",
    "containers3 = soup.findAll(\"li\", {\"class\":\"s-result-item s-col-span-12 celwidget \"})\n",
    "print(\"containers style 5 special\", len(containers3))\n"
   ]
  },
  {
   "cell_type": "code",
   "execution_count": 21,
   "id": "abb6f482-515a-44cc-9f89-620eec70263e",
   "metadata": {},
   "outputs": [],
   "source": [
    "for container in sponsored_containers:\n",
    "\t# Product Asin\n",
    "\tasin = (container[\"data-asin\"])\n",
    "\n",
    "\t# Product Name\n",
    "\ttry:\n",
    "\t\ttitle_container = container.findAll(\"a\", {\"class\":\"a-link-normal s-access-detail-page s-color-twister-title-link a-text-normal\"}) \n",
    "\t\tname = title_container[0][\"title\"]\n",
    "\texcept:\n",
    "\t\tname = \"N/A\"\n",
    "\n",
    "\t# Product Price # span class=\"a-offscreen\"\n",
    "\tprice_container = container.findAll(\"span\", {\"class\":\"a-offscreen\"})\n",
    "\tprice = price_container[1].text\n",
    "\n",
    "\t#Number of reviews\n",
    "\tnum_review_container = container.findAll(\"a\", {\"class\":\"a-size-small a-link-normal a-text-normal\"})\n",
    "\ttry:\n",
    "\t\tif (len(num_review_container) > 1):\n",
    "\t\t\tnum_reviews = num_review_container[1].text\n",
    "\t\telse: \n",
    "\t\t\tnum_reviews = num_review_container[0].text \n",
    "\texcept:\n",
    "\t\tnum_reviews = \"0\"\n",
    "\n",
    "\tf.write(asin + ',' + name.replace(\",\", \"|\") + ',' + price.replace(\"$\", \"\") + \",\" + num_reviews.replace(\",\", \"\") + \"\\n\") # + ',' + name.replace(\",\", \"|\") + ',' + price + \",\" + num_reviews + \"\\n\")\n"
   ]
  },
  {
   "cell_type": "code",
   "execution_count": 22,
   "id": "fb2b80a4-23ff-40c9-9340-c01dc4bdf178",
   "metadata": {},
   "outputs": [],
   "source": [
    "for container in common_containers:\n",
    "\t# Product Asin\n",
    "\tasin = (container[\"data-asin\"])\n",
    "\n",
    "\t# Product Name\n",
    "\ttry:\n",
    "\t\ttitle_container = container.findAll(\"a\", {\"class\":\"a-link-normal s-access-detail-page s-color-twister-title-link a-text-normal\"}) \n",
    "\t\tname = title_container[0][\"title\"]\n",
    "\texcept:\n",
    "\t\tname = \"N/A\"\n",
    "\n",
    "\t# Product Price # span class=\"a-offscreen\"\n",
    "\tprice_container = container.findAll(\"span\", {\"class\":\"a-offscreen\"})\n",
    "\t# print(price_container)\n",
    "\ttry:\n",
    "\t\tprice = price_container[0].text\n",
    "\texcept:\n",
    "\t\tprice = \"N/A\"\n",
    "\n",
    "\t#Number of reviews\n",
    "\tnum_review_container = container.findAll(\"a\", {\"class\":\"a-size-small a-link-normal a-text-normal\"})\n",
    "\ttry:\n",
    "\t\tif (len(num_review_container) > 1):\n",
    "\t\t\tnum_reviews = num_review_container[1].text\n",
    "\t\telse:\n",
    "\t\t\tnum_reviews = num_review_container[0].text\n",
    "\texcept:\n",
    "\t\tnum_reviews = \"0\"\n",
    "\n",
    "\t#try:\n",
    "\t#\tnum_review2 = num_review_container[1].text.strip()\n",
    "\t#\tprint(num_review2)\n",
    "\t# except list index out of range:\n",
    "\t#\tnum_review2 = 0;\n",
    "\n",
    "\tf.write(asin + ',' + name.replace(\",\", \"|\") + ',' + price.replace(\"$\", \"\") + \",\" + num_reviews.replace(\",\", \"\") + \"\\n\")\n",
    "\n",
    "f.close()"
   ]
  },
  {
   "cell_type": "code",
   "execution_count": 24,
   "id": "ee2363cf-9e79-4437-b328-863da64910e0",
   "metadata": {},
   "outputs": [],
   "source": [
    "HEADERS = ({'User-Agent':\n",
    "            'Mozilla/5.0 (X11; Linux x86_64) AppleWebKit/537.36 (KHTML, like Gecko) Chrome/44.0.2403.157 Safari/537.36',\n",
    "            'Accept-Language': 'en-US, en;q=0.5'})"
   ]
  },
  {
   "cell_type": "code",
   "execution_count": 41,
   "id": "ad87489e-b8d9-45a0-bd3c-e2e32f6a631e",
   "metadata": {},
   "outputs": [
    {
     "name": "stdin",
     "output_type": "stream",
     "text": [
      "the url:   https://www.amazon.in/Samsung-Storage-MediaTek-Octa-core-Processor/dp/B0BMGB2TPR/ref=lp_4363159031_1_1?sbo=RZvfv%2F%2FHxDF%2BO5021pAnSA%3D%3D\n"
     ]
    }
   ],
   "source": [
    "userl = input('the url:  ')"
   ]
  },
  {
   "cell_type": "code",
   "execution_count": 42,
   "id": "91047fff-ef41-4b0e-bbe0-cacd580b55c5",
   "metadata": {},
   "outputs": [],
   "source": [
    "URL = userl\n",
    "webpage = requests.get(URL, headers=HEADERS)"
   ]
  },
  {
   "cell_type": "code",
   "execution_count": 43,
   "id": "303a7785-5e74-427e-b72c-390194efa7bb",
   "metadata": {},
   "outputs": [],
   "source": [
    "soup = BeautifulSoup(webpage.content, \"lxml\")"
   ]
  },
  {
   "cell_type": "code",
   "execution_count": 44,
   "id": "6d163143-cdfb-4c82-b07f-edbb9e20e64d",
   "metadata": {},
   "outputs": [],
   "source": [
    "# Outer Tag Object\n",
    "title = soup.find(\"span\", attrs={\"id\":'productTitle'})"
   ]
  },
  {
   "cell_type": "code",
   "execution_count": 45,
   "id": "e5ff007c-4112-4123-80c9-677b5e0d2919",
   "metadata": {},
   "outputs": [],
   "source": [
    "# Inner NavigableString Object\n",
    "title_value = title.string"
   ]
  },
  {
   "cell_type": "code",
   "execution_count": 46,
   "id": "ccc65bdd-1929-4995-9eba-976956d0b5f2",
   "metadata": {},
   "outputs": [],
   "source": [
    "# Title as a string value\n",
    "title_string = title_value.strip()"
   ]
  },
  {
   "cell_type": "code",
   "execution_count": 47,
   "id": "1dbcacc8-70fb-49af-8bdb-ed1bcb0d3f92",
   "metadata": {},
   "outputs": [
    {
     "name": "stdout",
     "output_type": "stream",
     "text": [
      "<class 'bs4.element.Tag'>\n",
      "<class 'bs4.element.NavigableString'>\n",
      "<class 'str'>\n",
      "\n",
      "Product Title =  Samsung Galaxy M04 Light Green, 4GB RAM, 64GB Storage | Upto 8GB RAM with RAM Plus | MediaTek Helio P35 Octa-core Processor | 5000 mAh Battery | 13MP Dual Camera\n"
     ]
    }
   ],
   "source": [
    "# Printing types of values for efficient understanding\n",
    "print(type(title))\n",
    "print(type(title_value))\n",
    "print(type(title_string))\n",
    "print()\n",
    "\n",
    "# Printing Product Title\n",
    "print(\"Product Title = \", title_string)"
   ]
  },
  {
   "cell_type": "code",
   "execution_count": 53,
   "id": "e1aa4eb3-ace9-4811-b6ea-41a9e2c1ebd4",
   "metadata": {},
   "outputs": [
    {
     "ename": "NameError",
     "evalue": "name 'available' is not defined",
     "output_type": "error",
     "traceback": [
      "\u001b[1;31m---------------------------------------------------------------------------\u001b[0m",
      "\u001b[1;31mNameError\u001b[0m                                 Traceback (most recent call last)",
      "Cell \u001b[1;32mIn[53], line 20\u001b[0m\n\u001b[0;32m     16\u001b[0m     \u001b[38;5;28mprint\u001b[39m(\u001b[38;5;124m\"\u001b[39m\u001b[38;5;124mproduct Title = \u001b[39m\u001b[38;5;124m\"\u001b[39m, title_string)\n\u001b[0;32m     18\u001b[0m File\u001b[38;5;241m.\u001b[39mwrite(\u001b[38;5;124mf\u001b[39m\u001b[38;5;124m\"\u001b[39m\u001b[38;5;132;01m{\u001b[39;00mtitle_string\u001b[38;5;132;01m}\u001b[39;00m\u001b[38;5;124m,\u001b[39m\u001b[38;5;124m\"\u001b[39m)\n\u001b[1;32m---> 20\u001b[0m File\u001b[38;5;241m.\u001b[39mwrite(\u001b[38;5;124mf\u001b[39m\u001b[38;5;124m\"\u001b[39m\u001b[38;5;132;01m{\u001b[39;00m\u001b[43mavailable\u001b[49m\u001b[38;5;132;01m}\u001b[39;00m\u001b[38;5;124m,\u001b[39m\u001b[38;5;130;01m\\n\u001b[39;00m\u001b[38;5;124m\"\u001b[39m)\n\u001b[0;32m     22\u001b[0m \u001b[38;5;66;03m# closing the file\u001b[39;00m\n\u001b[0;32m     23\u001b[0m File\u001b[38;5;241m.\u001b[39mclose()\n",
      "\u001b[1;31mNameError\u001b[0m: name 'available' is not defined"
     ]
    }
   ],
   "source": [
    "File = open(\"out.csv\", \"a\")\n",
    " \n",
    "\n",
    " \n",
    "webpage = requests.get(URL, headers=HEADERS)\n",
    "soup = BeautifulSoup(webpage.content, \"lxml\")\n",
    "try:\n",
    "    title = soup.find(\"span\", attrs={\"id\": 'productTitle'})\n",
    "    title_value = title.string\n",
    "    title_string = title_value.strip().replace(',', '')\n",
    "           \n",
    "except AttributeError:\n",
    " \n",
    "    title_string = \"NA\"\n",
    " \n",
    "    print(\"product Title = \", title_string)\n",
    "\n",
    "File.write(f\"{title_string},\")\n",
    "\n",
    "File.write(f\"{available},\\n\")\n",
    "\n",
    "# closing the file\n",
    "File.close()\n",
    "\n",
    "if __name__ == '__main__':\n",
    "# opening our url file to access URLs\n",
    "\tfile = open(\"url.txt\", \"r\")\n",
    "\n",
    "\t# iterating over the urls\n",
    "for links in file.readlines():\n",
    "\t\tmain(links)\n",
    "\n",
    "\n"
   ]
  },
  {
   "cell_type": "code",
   "execution_count": 54,
   "id": "252e547f-b0d5-4c42-ab31-2c40d8bda1e4",
   "metadata": {},
   "outputs": [
    {
     "ename": "SyntaxError",
     "evalue": "unterminated string literal (detected at line 12) (3141097.py, line 12)",
     "output_type": "error",
     "traceback": [
      "\u001b[1;36m  Cell \u001b[1;32mIn[54], line 12\u001b[1;36m\u001b[0m\n\u001b[1;33m    'Mozilla/5.0 (X11; Linux x86_64)\u001b[0m\n\u001b[1;37m    ^\u001b[0m\n\u001b[1;31mSyntaxError\u001b[0m\u001b[1;31m:\u001b[0m unterminated string literal (detected at line 12)\n"
     ]
    }
   ],
   "source": [
    "# importing libraries\n",
    "from bs4 import BeautifulSoup\n",
    "import requests\n",
    "\n",
    "def main(URL):\n",
    "\t# opening our output file in append mode\n",
    "\tFile = open(\"out.csv\", \"a\")\n",
    "\n",
    "\t# specifying user agent, You can use other user agents\n",
    "\t# available on the internet\n",
    "\tHEADERS = ({'User-Agent':\n",
    "\t\t\t\t'Mozilla/5.0 (X11; Linux x86_64) \n",
    "\t\t\t\t\tAppleWebKit/537.36 (KHTML, like Gecko) \n",
    "\t\t\t\t\t\t\tChrome/44.0.2403.157 Safari/537.36',\n",
    "\t\t\t\t\t\t\t\t'Accept-Language': 'en-US, en;q=0.5'})\n",
    "\n",
    "\t# Making the HTTP Request\n",
    "\twebpage = requests.get(URL, headers=HEADERS)\n",
    "\n",
    "\t# Creating the Soup Object containing all data\n",
    "\tsoup = BeautifulSoup(webpage.content, \"lxml\")\n",
    "\n",
    "\t# retrieving product title\n",
    "\ttry:\n",
    "\t\t# Outer Tag Object\n",
    "\t\ttitle = soup.find(\"span\", \n",
    "\t\t\t\t\t\tattrs={\"id\": 'productTitle'})\n",
    "\n",
    "\t\t# Inner NavigableString Object\n",
    "\t\ttitle_value = title.string\n",
    "\n",
    "\t\t# Title as a string value\n",
    "\t\ttitle_string = title_value.strip().replace(',', '')\n",
    "\n",
    "\texcept AttributeError:\n",
    "\t\ttitle_string = \"NA\"\n",
    "\tprint(\"product Title = \", title_string)\n",
    "\n",
    "\t# saving the title in the file\n",
    "\tFile.write(f\"{title_string},\")\n",
    "\n",
    "\t# retrieving price\n",
    "\ttry:\n",
    "\t\tprice = soup.find(\n",
    "\t\t\t\"span\", attrs={'id': 'priceblock_ourprice'})\n",
    "\t\t\t\t\t\t\t\t.string.strip().replace(',', '')\n",
    "\t\t# we are omitting unnecessary spaces\n",
    "\t\t# and commas form our string\n",
    "\texcept AttributeError:\n",
    "\t\tprice = \"NA\"\n",
    "\tprint(\"Products price = \", price)\n",
    "\n",
    "\t# saving\n",
    "\tFile.write(f\"{price},\")\n",
    "\n",
    "\t# retrieving product rating\n",
    "\ttry:\n",
    "\t\trating = soup.find(\"i\", attrs={\n",
    "\t\t\t\t\t\t'class': 'a-icon a-icon-star a-star-4-5'})\n",
    "\t\t\t\t\t\t\t\t\t.string.strip().replace(',', '')\n",
    "\n",
    "\texcept AttributeError:\n",
    "\n",
    "\t\ttry:\n",
    "\t\t\trating = soup.find(\n",
    "\t\t\t\t\"span\", attrs={'class': 'a-icon-alt'})\n",
    "\t\t\t\t\t\t\t\t.string.strip().replace(',', '')\n",
    "\t\texcept:\n",
    "\t\t\trating = \"NA\"\n",
    "\tprint(\"Overall rating = \", rating)\n",
    "\n",
    "\tFile.write(f\"{rating},\")\n",
    "\n",
    "\ttry:\n",
    "\t\treview_count = soup.find(\n",
    "\t\t\t\"span\", attrs={'id': 'acrCustomerReviewText'})\n",
    "\t\t\t\t\t\t\t\t.string.strip().replace(',', '')\n",
    "\n",
    "\texcept AttributeError:\n",
    "\t\treview_count = \"NA\"\n",
    "\tprint(\"Total reviews = \", review_count)\n",
    "\tFile.write(f\"{review_count},\")\n",
    "\n",
    "\t# print availablility status\n",
    "\ttry:\n",
    "\t\tavailable = soup.find(\"div\", attrs={'id': 'availability'})\n",
    "\t\tavailable = available.find(\"span\")\n",
    "\t\t\t\t\t.string.strip().replace(',', '')\n",
    "\n",
    "\texcept AttributeError:\n",
    "\t\tavailable = \"NA\"\n",
    "\tprint(\"Availability = \", available)\n",
    "\n",
    "\t# saving the availability and closing the line\n",
    "\tFile.write(f\"{available},\\n\")\n",
    "\n",
    "\t# closing the file\n",
    "\tFile.close()\n",
    "\n",
    "\n",
    "if __name__ == '__main__':\n",
    "# opening our url file to access URLs\n",
    "\tfile = open(\"url.txt\", \"r\")\n",
    "\n",
    "\t# iterating over the urls\n",
    "\tfor links in file.readlines():\n",
    "\t\tmain(links)\n"
   ]
  },
  {
   "cell_type": "code",
   "execution_count": 58,
   "id": "d015e5fe-0f12-4bed-b27f-a4050e9d5762",
   "metadata": {},
   "outputs": [
    {
     "ename": "SyntaxError",
     "evalue": "unterminated string literal (detected at line 32) (2223402864.py, line 32)",
     "output_type": "error",
     "traceback": [
      "\u001b[1;36m  Cell \u001b[1;32mIn[58], line 32\u001b[1;36m\u001b[0m\n\u001b[1;33m    \"rating\": (product.css(\"span[aria-label~=stars]::attr\u001b[0m\n\u001b[1;37m                           ^\u001b[0m\n\u001b[1;31mSyntaxError\u001b[0m\u001b[1;31m:\u001b[0m unterminated string literal (detected at line 32)\n"
     ]
    }
   ],
   "source": [
    "import requests   \n",
    "from parsel import Selector   \n",
    "from urllib.parse import urljoin   \n",
    "\n",
    "keyword_list = ['ipad']  \n",
    "product_overview_data = []  \n",
    "\n",
    "for keyword in keyword_list:  \n",
    "    url_list = [f'https://www.amazon.com/s?k={Shirt}&page=1']  \n",
    "    for url in url_list:  \n",
    "        try:  \n",
    "            response = requests.get(url)  \n",
    "\n",
    "            if response.status_code == 200:  \n",
    "                sel = Selector(text=response.text)  \n",
    "\n",
    "                # Extract Product Page  \n",
    "                search_products = sel.css(\"div.s-result-item[data-component-type=s-search-result]\")  \n",
    "                for product in search_products:  \n",
    "                    relative_url = product.css(\"h2>a::attr(href)\").get()  \n",
    "                    asin = relative_url.split('/')[3] if len(relative_url.split('/')) >= 4 else None  \n",
    "                    product_url = urljoin('https://www.amazon.com/', relative_url).split(\"?\")[0]  \n",
    "                    product_overview_data.append(  \n",
    "                        {  \n",
    "                            \"keyword\": keyword,  \n",
    "                            \"asin\": asin,  \n",
    "                            \"url\": product_url,  \n",
    "                            \"ad\": True if \"/slredirect/\" in product_url else False,   \n",
    "                            \"title\": product.css(\"h2>a>span::text\").get(),  \n",
    "                            (\"price-data-a-size:xl .a-offscreen::text\").get(),  \n",
    "                            \"real_price\": product.css(\".a-price[data-a-size=b] .a-offscreen::text\").get(),  \n",
    "                            \"rating\": (product.css(\"span[aria-label~=stars]::attr\n",
    "                            \"rating_count\": product.css(\"span[aria-label~=stars] + span::attr(aria-label)\").get(),  \n",
    "                            \"thumbnail_url\": product.xpath(\"//img[has-class('s-image')]/@src\").get(),  \n",
    "                        }  \n",
    "                    )  \n",
    "\n",
    "                # Get All Pages  \n",
    "                if \"&page=1\" in url:  \n",
    "                    available_pages = sel.xpath(  \n",
    "                        '//a[has-class(\"s-pagination-item\")][not(has-class(\"s-pagination-separator\"))]/text()'  \n",
    "                    ).getall()  \n",
    "\n",
    "                    for page in available_pages:  \n",
    "                        search_url_paginated = f'https://www.amazon.com/s?k={keyword}&page={page}'  \n",
    "                        url_list.append(search_url_paginated)  \n",
    "\n",
    "        except Exception as e:  \n",
    "            print(\"Error\", e)"
   ]
  },
  {
   "cell_type": "code",
   "execution_count": 61,
   "id": "bcd0b5ea-d7cf-4c2c-b69c-6340973dbfd0",
   "metadata": {},
   "outputs": [],
   "source": [
    "import re   \n",
    "import requests   \n",
    "from parsel import Selector   \n",
    "from urllib.parse import urljoin   \n",
    "\n",
    "product_urls = [  \n",
    "    'https://www.amazon.com/2021-Apple-10-2-inch-iPad-Wi-Fi/dp/B09G9FPHY6/ref=sr_1_1',  \n",
    "]  \n",
    "\n",
    "product_data_list = []  \n",
    "\n",
    "for product_url in product_urls:  \n",
    "    try:  \n",
    "        response = requests.get(product_url)  \n",
    "\n",
    "        if response.status_code == 200:  \n",
    "            sel = Selector(text=response.text)  \n",
    "            image_data = json.loads(re.findall(r\"colorImages':.*'initial':\\s*(\\[.+?\\])},\\n\", response.text)[0])  \n",
    "            variant_data = re.findall(r'dimensionValuesDisplayData\"\\s*:\\s* ({.+?}),\\n', response.text)  \n",
    "            feature_bullets = [bullet.strip() for bullet in sel.css(\"#feature-bullets li ::text\").getall()]  \n",
    "            price = sel.css('.a-price span[aria-hidden=\"true\"] ::text').get(\"\")  \n",
    "            if not price:  \n",
    "                price = sel.css('.a-price .a-offscreen ::text').get(\"\")  \n",
    "            product_data_list.append({  \n",
    "                \"name\": sel.css(\"#productTitle::text\").get(\"\").strip(),  \n",
    "                \"price\": price,  \n",
    "                \"stars\": sel.css(\"i[data-hook=average-star-rating] ::text\").get(\"\").strip(),  \n",
    "                \"rating_count\": sel.css(\"div[data-hook=total-review-count] ::text\").get(\"\").strip(),  \n",
    "                \"feature_bullets\": feature_bullets,  \n",
    "                \"images\": image_data,  \n",
    "                \"variant_data\": variant_data,  \n",
    "            })  \n",
    "    except Exception as e:  \n",
    "            print(\"Error\",e)"
   ]
  },
  {
   "cell_type": "code",
   "execution_count": 68,
   "id": "53316086-f3e0-4c4f-bf5b-dd634a11cb46",
   "metadata": {},
   "outputs": [],
   "source": [
    "import requests\n",
    "from bs4 import BeautifulSoup as bs\n",
    "\n",
    "link = \"https://www.flipkart.com/laptops/pr?sid=6bo,b5g&otracker=categorytree&fm=neo%2Fmerchandising&iid=M_66a833b3-a53d-4a8c-bd65-6cbcb7ac61c8_1_372UD5BXDFYS_MC.34WHNYFH5V2Y&otracker=hp_rich_navigation_8_1.navigationCard.RICH_NAVIGATION_Electronics~Laptop%2Band%2BDesktop_34WHNYFH5V2Y&otracker1=hp_rich_navigation_PINNED_neo%2Fmerchandising_NA_NAV_EXPANDABLE_navigationCard_cc_8_L1_view-all&cid=34WHNYFH5V2Y\"\n"
   ]
  },
  {
   "cell_type": "code",
   "execution_count": 69,
   "id": "bd40b84d-83d4-46a3-bfd8-3a60e08a2d9b",
   "metadata": {},
   "outputs": [],
   "source": [
    "url = requests.get(link)\n"
   ]
  },
  {
   "cell_type": "code",
   "execution_count": 70,
   "id": "9a0e51a5-dd58-47cc-9efc-b03f6c365665",
   "metadata": {},
   "outputs": [],
   "source": [
    "soup = bs(url.text)\n"
   ]
  },
  {
   "cell_type": "code",
   "execution_count": 71,
   "id": "4df8a3b3-50d4-430e-9e21-b654e72fb3ad",
   "metadata": {},
   "outputs": [],
   "source": [
    "elements = soup.find_all(\"div\",\tclass_=\"_1AtVbE col-12-12\")\n"
   ]
  },
  {
   "cell_type": "code",
   "execution_count": 72,
   "id": "65964954-2ae3-4f2e-8c64-07b066ae4baf",
   "metadata": {},
   "outputs": [],
   "source": [
    "for element in elements:\n",
    "\tif element:\n",
    "\t\ta = element.find(\"div\", class_=\"_13oc-S _1t9ceu\")\n"
   ]
  },
  {
   "cell_type": "code",
   "execution_count": 73,
   "id": "7fb1124a-80ce-4179-b48c-e9c2c419730a",
   "metadata": {},
   "outputs": [],
   "source": [
    "if a:\n",
    "\tb = a.find(\"div\", class_=\"_1xHGtK _373qXS\")\n",
    "\tif b:\n",
    "\t\tc = b.find(\"div\", class_=\"_2B099V\")\n",
    "\t\tif c:\n",
    "\t\t\td = c.find(\"div\", class_=\"_25b18c\")\n",
    "\t\t\tif d:\n",
    "\t\t\t\te = d.find(\"div\", class_=\"_30jeq3\")\n",
    "\t\t\t\tprint(e.text)\n"
   ]
  },
  {
   "cell_type": "code",
   "execution_count": 94,
   "id": "e36deafb-7a07-4618-9076-d70134e43f11",
   "metadata": {},
   "outputs": [],
   "source": [
    "import bs4\n",
    "from bs4 import BeautifulSoup as bs\n",
    "import requests"
   ]
  },
  {
   "cell_type": "code",
   "execution_count": 95,
   "id": "cade6838-1e2a-443d-8c7f-245d20b28b1f",
   "metadata": {},
   "outputs": [],
   "source": [
    "link='https://www.flipkart.com/laptops/pr?sid=6bo,b5g&otracker=categorytree&fm=neo%2Fmerchandising&iid=M_66a833b3-a53d-4a8c-bd65-6cbcb7ac61c8_1_372UD5BXDFYS_MC.34WHNYFH5V2Y&otracker=hp_rich_navigation_8_1.navigationCard.RICH_NAVIGATION_Electronics~Laptop%2Band%2BDesktop_34WHNYFH5V2Y&otracker1=hp_rich_navigation_PINNED_neo%2Fmerchandising_NA_NAV_EXPANDABLE_navigationCard_cc_8_L1_view-all&cid=34WHNYFH5V2Y'"
   ]
  },
  {
   "cell_type": "code",
   "execution_count": 96,
   "id": "e18c7496-b302-478e-8bab-847bdffc5002",
   "metadata": {},
   "outputs": [],
   "source": [
    "page = requests.get(link)\n"
   ]
  },
  {
   "cell_type": "code",
   "execution_count": 97,
   "id": "6cd65713-eef0-4212-bf91-5cb6ac64cbaf",
   "metadata": {},
   "outputs": [
    {
     "data": {
      "text/plain": [
       "b'<html><body><h1>500 Internal Server Error</h1>\\nAn internal server error occurred.\\n</body></html>\\n'"
      ]
     },
     "execution_count": 97,
     "metadata": {},
     "output_type": "execute_result"
    }
   ],
   "source": [
    "page.content"
   ]
  },
  {
   "cell_type": "code",
   "execution_count": 98,
   "id": "cc557830-7ea7-476d-b539-116e3ab86b32",
   "metadata": {},
   "outputs": [
    {
     "name": "stdout",
     "output_type": "stream",
     "text": [
      "<html>\n",
      " <body>\n",
      "  <h1>\n",
      "   500 Internal Server Error\n",
      "  </h1>\n",
      "  An internal server error occurred.\n",
      " </body>\n",
      "</html>\n",
      "\n"
     ]
    }
   ],
   "source": [
    "soup = bs(page.content, 'html.parser')\n",
    "#it gives us the visual representation of data\n",
    "print(soup.prettify())"
   ]
  },
  {
   "cell_type": "code",
   "execution_count": 99,
   "id": "599eab54-ccc7-476d-adfd-18cdd7790657",
   "metadata": {},
   "outputs": [
    {
     "name": "stdout",
     "output_type": "stream",
     "text": [
      "None\n"
     ]
    }
   ],
   "source": [
    "name=soup.find('span')\n",
    "print(name)"
   ]
  },
  {
   "cell_type": "code",
   "execution_count": null,
   "id": "04a75b26-28f9-4e71-a2b9-ac2ca9a11b49",
   "metadata": {},
   "outputs": [],
   "source": []
  }
 ],
 "metadata": {
  "kernelspec": {
   "display_name": "Python 3 (ipykernel)",
   "language": "python",
   "name": "python3"
  },
  "language_info": {
   "codemirror_mode": {
    "name": "ipython",
    "version": 3
   },
   "file_extension": ".py",
   "mimetype": "text/x-python",
   "name": "python",
   "nbconvert_exporter": "python",
   "pygments_lexer": "ipython3",
   "version": "3.11.5"
  }
 },
 "nbformat": 4,
 "nbformat_minor": 5
}
